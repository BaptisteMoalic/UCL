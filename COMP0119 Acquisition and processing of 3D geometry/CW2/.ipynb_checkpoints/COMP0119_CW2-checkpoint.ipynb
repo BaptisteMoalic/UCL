{
 "cells": [
  {
   "cell_type": "markdown",
   "id": "9854e94f",
   "metadata": {},
   "source": [
    "<center><h1>COMP0119 - Acquisition and processing of 3D geometry</h1></center>\n",
    "\n",
    "<center><h3>Assignment 2 - Laplacian filtering</h3></center>\n",
    "\n",
    "<center><h4>Baptiste Moalic, 22182376</h4></center>"
   ]
  },
  {
   "cell_type": "markdown",
   "id": "6e9c10f1",
   "metadata": {},
   "source": [
    "--------------"
   ]
  },
  {
   "cell_type": "markdown",
   "id": "978af997",
   "metadata": {},
   "source": [
    "#### Importing libraries"
   ]
  },
  {
   "cell_type": "code",
   "execution_count": 1,
   "id": "dda5fbfc",
   "metadata": {},
   "outputs": [
    {
     "name": "stderr",
     "output_type": "stream",
     "text": [
      "C:\\Users\\bapti\\anaconda3\\envs\\geo_tutorials22\\lib\\site-packages\\pyglet\\libs\\win32\\__init__.py:326: UserWarning: Could not set COM MTA mode. Unexpected behavior may occur.\n",
      "  warnings.warn(\"Could not set COM MTA mode. Unexpected behavior may occur.\")\n"
     ]
    }
   ],
   "source": [
    "import sys,os\n",
    "import time\n",
    "from geo_tools import rd_helper\n",
    "import pyglet\n",
    "pyglet.options['shadow_window'] = False\n",
    "import pyrender\n",
    "import matplotlib\n",
    "import matplotlib.pyplot as plt\n",
    "import trimesh\n",
    "import numpy as np\n",
    "from sklearn.neighbors import KDTree\n",
    "from itertools import permutations\n",
    "import random\n",
    "import time\n",
    "from scipy.sparse import lil_matrix, eye\n",
    "from scipy.sparse.linalg import eigs, spsolve"
   ]
  },
  {
   "cell_type": "markdown",
   "id": "cdbbfe7c",
   "metadata": {},
   "source": [
    "## 1. Uniform Laplace\n",
    "\n",
    "We will start by defining a function computing the Laplacian matrix for uniform discretization, found in slide 23 of lecture 6, and with that we can directly estimate the mean curvature H by taking the norm of our laplacian divided by 2."
   ]
  },
  {
   "cell_type": "code",
   "execution_count": 2,
   "id": "a143e4bb",
   "metadata": {},
   "outputs": [],
   "source": [
    "def uniform_laplacian(input_mesh):\n",
    "    \n",
    "    # Working on a copy of the mesh\n",
    "    mesh = input_mesh.copy()\n",
    "    nb_vertices = mesh.vertices.shape[0]\n",
    "    laplacian = np.zeros((nb_vertices, 3))\n",
    "    \n",
    "    # Iterating over every vertex\n",
    "    for i in range(nb_vertices):\n",
    "        \n",
    "        # Here is our vertex of interest\n",
    "        x_i = mesh.vertices[i, :]\n",
    "        \n",
    "        # Here are its neighbors\n",
    "        N_1_x_i = np.array(mesh.vertex_neighbors[i])\n",
    "        \n",
    "        lap_i = np.zeros((1,3))\n",
    "        # Iterating over its neighbors\n",
    "        for j in N_1_x_i:\n",
    "            \n",
    "            x_j = mesh.vertices[j, :]\n",
    "            lap_i += (x_j - x_i)\n",
    "        \n",
    "        # Normalizing by the number of neighbors\n",
    "        lap_i_n = (1/N_1_x_i.shape[0]) * lap_i\n",
    "        \n",
    "        # Storing our result\n",
    "        laplacian[i, :] = lap_i_n\n",
    "        \n",
    "    return laplacian        "
   ]
  },
  {
   "cell_type": "code",
   "execution_count": 3,
   "id": "dddcbfd6",
   "metadata": {},
   "outputs": [],
   "source": [
    "## MATRIX VERSION\n",
    "def uniform_laplacian(input_mesh):\n",
    "    \n",
    "    # Working on a copy of the mesh\n",
    "    mesh = input_mesh.copy()\n",
    "    nb_vertices = mesh.vertices.shape[0]\n",
    "    A = lil_matrix((nb_vertices, nb_vertices))\n",
    "    \n",
    "    # Iterating over every vertex\n",
    "    for i in range(nb_vertices):\n",
    "        \n",
    "        # Here are its neighbors\n",
    "        N_1_x_i = np.array(mesh.vertex_neighbors[i])\n",
    "\n",
    "        # Iterating over its neighbors\n",
    "        for j in N_1_x_i:\n",
    "            \n",
    "            A[i, j] = (1/N_1_x_i.shape[0])\n",
    "        \n",
    "        # Diagonal case\n",
    "        A[i, i] = -1\n",
    "        \n",
    "    return A"
   ]
  },
  {
   "cell_type": "code",
   "execution_count": 4,
   "id": "e3e09f96",
   "metadata": {},
   "outputs": [],
   "source": [
    "def uniform_H(input_mesh):\n",
    "    \n",
    "    # We use the uniform_laplacian to compute the laplacian\n",
    "    laplacian = uniform_laplacian(input_mesh)\n",
    "    \n",
    "    H = np.zeros((input_mesh.vertices.shape[0], 1))\n",
    "    for i in range(input_mesh.vertices.shape[0]):\n",
    "        \n",
    "        # Taking the norm and dividing by two\n",
    "        H[i] = np.sqrt(np.sum(laplacian[i, :]**2))/2\n",
    "        \n",
    "    return H"
   ]
  },
  {
   "cell_type": "code",
   "execution_count": 5,
   "id": "753db6a7",
   "metadata": {},
   "outputs": [],
   "source": [
    "## MATRIX VERSION\n",
    "\n",
    "def uniform_H(input_mesh):\n",
    "    \n",
    "    mesh = input_mesh.copy()\n",
    "    nb_vertices = mesh.vertices.shape[0]\n",
    "    # We use the uniform_laplacian to compute the laplacian\n",
    "    A = uniform_laplacian(input_mesh)\n",
    "    \n",
    "    H_1 = A @ mesh.vertices[:, 0] \n",
    "    H_2 = A @ mesh.vertices[:, 1] \n",
    "    H_3 = A @ mesh.vertices[:, 2] \n",
    "    \n",
    "    # Norm two\n",
    "    H = np.sqrt(H_1**2 + H_2**2 + H_3**2)/2\n",
    "        \n",
    "    return H"
   ]
  },
  {
   "cell_type": "markdown",
   "id": "ed8b3c6b",
   "metadata": {},
   "source": [
    "Now for the Gauss curvature, we need both the angle deficit, and the area of normalization. But first, we have to build a function to order the neighbor vertices, so that our angles can be computed correctly."
   ]
  },
  {
   "cell_type": "code",
   "execution_count": 10,
   "id": "515548e5",
   "metadata": {},
   "outputs": [],
   "source": [
    "def choose_best_neighbors(input_mesh, k_of_interest, list_of_neighbors):\n",
    "    mesh = input_mesh.copy()\n",
    "    \n",
    "    # Initialization\n",
    "    x_i = mesh.vertices[k_of_interest, :]\n",
    "    new_list_of_neighbors = np.array([], dtype=int)\n",
    "    nb_neighbors = list_of_neighbors.shape[0]\n",
    "    \n",
    "    # We start by the first neighbor in the list\n",
    "    new_list_of_neighbors = np.append(new_list_of_neighbors, int(list_of_neighbors[0]))\n",
    "    list_of_neighbors = np.delete(list_of_neighbors, 0)\n",
    " \n",
    "    while(list_of_neighbors.shape[0] != 0): # We iterate as long as we have neighbors to process\n",
    "        x_j_idx = new_list_of_neighbors[-1] # We use the last neighbor we've processed\n",
    "        \n",
    "        temp_list_of_angles = np.array([]) # Temporary storage, we are looking for the minimum angle\n",
    "        \n",
    "        for x_other_idx in list_of_neighbors:\n",
    "            \n",
    "            # Computing the edges forming the angle\n",
    "            edge_1 = mesh.vertices[x_j_idx, :] - x_i\n",
    "            edge_2 = mesh.vertices[x_other_idx, :] - x_i\n",
    "\n",
    "            # Normalizing the edges so the dot product gives only the cosine\n",
    "            edge_1 = edge_1/np.linalg.norm(edge_1)\n",
    "            edge_2 = edge_2/np.linalg.norm(edge_2)\n",
    "\n",
    "            cos_angle_k = np.dot(edge_1, edge_2)\n",
    "            angle_k = np.abs(np.arccos(cos_angle_k))\n",
    "\n",
    "            temp_list_of_angles = np.append(temp_list_of_angles, angle_k)\n",
    "            \n",
    "        idx_of_min_angle = np.argmin(temp_list_of_angles)\n",
    "        new_list_of_neighbors = np.append(new_list_of_neighbors, int(list_of_neighbors[idx_of_min_angle]))\n",
    "        list_of_neighbors = np.delete(list_of_neighbors, idx_of_min_angle)\n",
    "\n",
    "    return new_list_of_neighbors            "
   ]
  },
  {
   "cell_type": "code",
   "execution_count": 6,
   "id": "0f51f0e5",
   "metadata": {},
   "outputs": [],
   "source": [
    "def angle_deficit(input_mesh):\n",
    "    mesh = input_mesh.copy()\n",
    "    \n",
    "    nb_vertices = mesh.vertices.shape[0]\n",
    "    angle_deficits = np.zeros((nb_vertices, 1))\n",
    "    \n",
    "    # Iterating over every vertex\n",
    "    for i in range(nb_vertices):\n",
    "        \n",
    "        # Here is our vertex of interest\n",
    "        x_i = mesh.vertices[i, :]\n",
    "        \n",
    "        # Here are its neighbors\n",
    "        N_1_x_i = choose_best_neighbors(mesh, i, np.array(mesh.vertex_neighbors[i]))\n",
    "    \n",
    "        angle_i = 0\n",
    "        \n",
    "        for k in range(N_1_x_i.shape[0]-1): # We process 2 by 2 the vertices, so we have to \n",
    "                                            # process the end vertex at the end (because the next one is the first, \n",
    "                                            # and it would throw an out of bounds error)\n",
    "            # Computing the edges forming the angle\n",
    "            edge_1 = mesh.vertices[N_1_x_i[k], :] - x_i\n",
    "            edge_2 = mesh.vertices[N_1_x_i[k+1], :] - x_i\n",
    "            \n",
    "            # Normalizing the edges so the dot product gives only the cosine\n",
    "            edge_1 = edge_1/np.linalg.norm(edge_1)\n",
    "            edge_2 = edge_2/np.linalg.norm(edge_2)\n",
    "            \n",
    "            cos_angle_k = np.abs(np.dot(edge_1, edge_2))\n",
    "            angle_k = np.arccos(cos_angle_k)\n",
    "            \n",
    "            angle_i += angle_k\n",
    "        \n",
    "        # Case -1/0\n",
    "        # Computing the edges forming the angle\n",
    "        edge_1 = mesh.vertices[N_1_x_i[-1], :] - x_i\n",
    "        edge_2 = mesh.vertices[N_1_x_i[0], :] - x_i\n",
    "            \n",
    "        # Normalizing the edges so the dot product gives only the cosine\n",
    "        edge_1 = edge_1/np.linalg.norm(edge_1)\n",
    "        edge_2 = edge_2/np.linalg.norm(edge_2)\n",
    "            \n",
    "        cos_angle_k = np.abs(np.dot(edge_1, edge_2))\n",
    "        angle_k = np.arccos(cos_angle_k)\n",
    "            \n",
    "        angle_i += angle_k\n",
    "        \n",
    "        # Storing\n",
    "        angle_deficits[i] = 2*np.pi - angle_i\n",
    "    \n",
    "    return angle_deficits    "
   ]
  },
  {
   "cell_type": "code",
   "execution_count": 8,
   "id": "6e5ef213",
   "metadata": {},
   "outputs": [],
   "source": [
    "def normalization_area(input_mesh):\n",
    "    mesh = input_mesh.copy()\n",
    "    \n",
    "    nb_vertices = mesh.vertices.shape[0]\n",
    "    normalized_area = np.zeros((nb_vertices, 1))\n",
    "    \n",
    "    # Iterating over every vertex\n",
    "    for i in range(nb_vertices):\n",
    "        \n",
    "        # Here is our vertex of interest\n",
    "        x_i = mesh.vertices[i, :]\n",
    "        \n",
    "        # Here are its neighbors\n",
    "        N_1_x_i = choose_best_neighbors(mesh, i, np.array(mesh.vertex_neighbors[i]))\n",
    "        \n",
    "        # We iterate over the vertices to have a list of triangles\n",
    "        list_of_triangles_i = np.zeros((N_1_x_i.shape[0], 3, 3))\n",
    "    \n",
    "        for k in range(N_1_x_i.shape[0]-1):\n",
    "        \n",
    "            list_of_triangles_i[k, 0, :] = x_i\n",
    "            list_of_triangles_i[k, 1, :] = mesh.vertices[N_1_x_i[k], :]\n",
    "            list_of_triangles_i[k, 2, :] = mesh.vertices[N_1_x_i[k+1], :]\n",
    "            \n",
    "        list_of_triangles_i[-1, 0, :] = x_i\n",
    "        list_of_triangles_i[-1, 1, :] = mesh.vertices[N_1_x_i[-1], :]\n",
    "        list_of_triangles_i[-1, 2, :] = mesh.vertices[N_1_x_i[0], :]\n",
    "            \n",
    "        normalized_area[i] = (1/3)*trimesh.triangles.area(list_of_triangles_i, None, True)\n",
    "        \n",
    "    return normalized_area  "
   ]
  },
  {
   "cell_type": "code",
   "execution_count": 9,
   "id": "af87fecf",
   "metadata": {},
   "outputs": [],
   "source": [
    "def angle_deficit2(input_mesh):\n",
    "    mesh = input_mesh.copy()\n",
    "    \n",
    "    nb_vertices = mesh.vertices.shape[0]\n",
    "    angle_deficit = np.zeros((nb_vertices, 1))\n",
    "    \n",
    "    # Iterating over every vertex\n",
    "    for i in range(nb_vertices):\n",
    "        \n",
    "        # Here is our vertex of interest\n",
    "        x_i = mesh.vertices[i, :]\n",
    "        \n",
    "        # Here are its neighbors\n",
    "        N_1_x_i = choose_best_neighbors(mesh, i, np.array(mesh.vertex_neighbors[i]))\n",
    "        \n",
    "        # We iterate over the vertices to have a list of triangles\n",
    "        list_of_triangles_i = np.zeros((N_1_x_i.shape[0], 3, 3))\n",
    "    \n",
    "        for k in range(N_1_x_i.shape[0]-1):\n",
    "        \n",
    "            list_of_triangles_i[k, 0, :] = x_i\n",
    "            list_of_triangles_i[k, 1, :] = mesh.vertices[N_1_x_i[k], :]\n",
    "            list_of_triangles_i[k, 2, :] = mesh.vertices[N_1_x_i[k+1], :]\n",
    "            \n",
    "        list_of_triangles_i[-1, 0, :] = x_i\n",
    "        list_of_triangles_i[-1, 1, :] = mesh.vertices[N_1_x_i[-1], :]\n",
    "        list_of_triangles_i[-1, 2, :] = mesh.vertices[N_1_x_i[0], :]\n",
    "            \n",
    "        # We compute all the angles\n",
    "        trimesh_angles = trimesh.triangles.angles(list_of_triangles_i)\n",
    "        \n",
    "        # Now we do the sum of the angles\n",
    "        angle_i = 0\n",
    "        \n",
    "        for k in range(N_1_x_i.shape[0]):\n",
    "            angle_i += trimesh_angles[k, 0] # Because the vertex i is always in position 0\n",
    "            \n",
    "        # Storing\n",
    "        angle_deficit[i] = 2*np.pi - angle_i\n",
    "        \n",
    "    return angle_deficit  "
   ]
  },
  {
   "cell_type": "code",
   "execution_count": 11,
   "id": "ce6d31ff",
   "metadata": {},
   "outputs": [],
   "source": [
    "def gaussian_curvature(input_mesh):\n",
    "    \n",
    "    # To compute the Gaussian curvature, we need both the area for normalization and the angle deficit\n",
    "    area_normalization_mesh = normalization_area(input_mesh)\n",
    "    area_normalization_mesh_inv = 1/area_normalization_mesh\n",
    "    angle_deficit_mesh = angle_deficit2(input_mesh)\n",
    "    \n",
    "    K = np.multiply(angle_deficit_mesh, area_normalization_mesh_inv)\n",
    "        \n",
    "    return K"
   ]
  },
  {
   "cell_type": "markdown",
   "id": "a9b07733",
   "metadata": {},
   "source": [
    "## 2. First and second fundamental forms\n",
    "\n",
    "We will define the surface and its derivatives to use them with more ease in the following functions"
   ]
  },
  {
   "cell_type": "markdown",
   "id": "b5bc85dc",
   "metadata": {},
   "source": [
    "$$ p(\\textit{u},\\textit{v}) = \\{\\textit{a}\\cos{(\\textit{u})}\\sin{(\\textit{v})}, \\textit{b}\\sin{(\\textit{u})}\\sin{(\\textit{v})}, \\textit{c}\\cos{(\\textit{v})}\\} $$\n",
    "\n",
    "$$ p_{\\textit{u}}(\\textit{u},\\textit{v}) = \\{-\\textit{a}\\sin{(\\textit{u})}\\sin{(\\textit{v})}, \\textit{b}\\cos{(\\textit{u})}\\sin{(\\textit{v})}, 0\\} $$\n",
    "\n",
    "$$ p_{\\textit{v}}(\\textit{u},\\textit{v}) = \\{\\textit{a}\\cos{(\\textit{u})}\\cos{(\\textit{v})}, \\textit{b}\\sin{(\\textit{u})}\\cos{(\\textit{v})}, -\\textit{c}\\sin{(\\textit{v})}\\} $$\n",
    "\n",
    "$$ p_{\\textit{uu}}(\\textit{u},\\textit{v}) = \\{-\\textit{a}\\cos{(\\textit{u})}\\sin{(\\textit{v})}, -\\textit{b}\\sin{(\\textit{u})}\\sin{(\\textit{v})}, 0\\} $$\n",
    "\n",
    "$$ p_{\\textit{vv}}(\\textit{u},\\textit{v}) = \\{-\\textit{a}\\cos{(\\textit{u})}\\sin{(\\textit{v})}, -\\textit{b}\\sin{(\\textit{u})}\\sin{(\\textit{v})}, -\\textit{c}\\cos{(\\textit{v})}\\} $$\n",
    "\n",
    "$$ p_{\\textit{uv}}(\\textit{u},\\textit{v}) = \\{-\\textit{a}\\sin{(\\textit{u})}\\cos{(\\textit{v})}, \\textit{b}\\cos{(\\textit{u})}\\cos{(\\textit{v})}, 0\\} $$"
   ]
  },
  {
   "cell_type": "code",
   "execution_count": 12,
   "id": "ba19b4aa",
   "metadata": {},
   "outputs": [],
   "source": [
    "def p(u, v, a, b, c):\n",
    "    return np.array([a*np.cos(u)*np.sin(v), b*np.sin(u)*np.sin(v), c*np.cos(v)]).reshape((3, 1))"
   ]
  },
  {
   "cell_type": "code",
   "execution_count": 13,
   "id": "3efa6bdf",
   "metadata": {},
   "outputs": [],
   "source": [
    "def p_u(u, v, a, b, c):\n",
    "    return np.array([-a*np.sin(u)*np.sin(v), b*np.cos(u)*np.sin(v), 0]).reshape((3, 1))"
   ]
  },
  {
   "cell_type": "code",
   "execution_count": 14,
   "id": "51aa5da8",
   "metadata": {},
   "outputs": [],
   "source": [
    "def p_v(u, v, a, b, c):\n",
    "     return np.array([a*np.cos(u)*np.cos(v), b*np.sin(u)*np.cos(v), -c*np.sin(v)]).reshape((3, 1))"
   ]
  },
  {
   "cell_type": "code",
   "execution_count": 15,
   "id": "425c5944",
   "metadata": {},
   "outputs": [],
   "source": [
    "def p_uu(u, v, a, b, c):\n",
    "     return np.array([-a*np.cos(u)*np.sin(v), -b*np.sin(u)*np.sin(v), 0]).reshape((3, 1))"
   ]
  },
  {
   "cell_type": "code",
   "execution_count": 16,
   "id": "626baf8e",
   "metadata": {},
   "outputs": [],
   "source": [
    "def p_vv(u, v, a, b, c):\n",
    "    return np.array([-a*np.cos(u)*np.sin(v), -b*np.sin(u)*np.sin(v), -c*np.cos(v)]).reshape((3, 1))"
   ]
  },
  {
   "cell_type": "code",
   "execution_count": 17,
   "id": "741e5967",
   "metadata": {},
   "outputs": [],
   "source": [
    "def p_uv(u, v, a, b, c):\n",
    "    return np.array([-a*np.sin(u)*np.cos(v), b*np.cos(u)*np.cos(v), 0]).reshape((3, 1))"
   ]
  },
  {
   "cell_type": "markdown",
   "id": "d4ff1ab2",
   "metadata": {},
   "source": [
    "Now let's define the matrices representing the first fundamental form"
   ]
  },
  {
   "cell_type": "code",
   "execution_count": 18,
   "id": "7dfa98e4",
   "metadata": {},
   "outputs": [],
   "source": [
    "def I(u, v, a, b, c):\n",
    "    I = np.zeros((2, 2))\n",
    "    \n",
    "    # Equations found in slide 30 lecture 5\n",
    "    I[0, 0] = p_u(u, v, a, b, c).T @ p_u(u, v, a, b, c)\n",
    "    diag_term = p_u(u, v, a, b, c).T @ p_v(u, v, a, b, c)\n",
    "    I[0, 1] = diag_term\n",
    "    I[1, 0] = diag_term\n",
    "    I[1, 1] = p_v(u, v, a, b, c).T @ p_v(u, v, a, b, c)\n",
    "    \n",
    "    return I    "
   ]
  },
  {
   "cell_type": "markdown",
   "id": "d3c9e2d6",
   "metadata": {},
   "source": [
    "For the second fundamental form, we need the normal, that is the cross-product between the derivative along u and the derivative along v"
   ]
  },
  {
   "cell_type": "markdown",
   "id": "ae70e7e8",
   "metadata": {},
   "source": [
    "$$ n = \\frac{p_{\\textit{u}} \\times p_{\\textit{v}}}{\\|p_{\\textit{u}} \\times p_{\\textit{v}}\\|} $$\n",
    "\n",
    "$$ (p_{\\textit{u}} \\times p_{\\textit{v}})(\\textit{u}, \\textit{v}) = \\{-\\textit{b}\\textit{c}\\cos{(\\textit{u})}\\sin^{2}{(\\textit{v})}, -\\textit{a}\\textit{c}\\sin{(\\textit{u})}\\sin^{2}{(\\textit{v})}, -\\textit{a}\\textit{b}\\sin{(\\textit{v})}\\cos{(\\textit{v})}   \\} $$"
   ]
  },
  {
   "cell_type": "code",
   "execution_count": 19,
   "id": "f9155ee1",
   "metadata": {},
   "outputs": [],
   "source": [
    "def n(u, v, a, b, c):\n",
    "\n",
    "    n_to_normalize = np.array([-b*c*np.cos(u)*(np.sin(v)**2), -a*c*np.sin(u)*(np.sin(v)**2), -a*b*np.sin(v)*np.cos(v)])\n",
    "    #normalization = np.linalg.norm(n_to_normalize)\n",
    "    #n = n_to_normalize/normalization\n",
    "    n = n_to_normalize\n",
    "    \n",
    "    return n.reshape((3, 1))"
   ]
  },
  {
   "cell_type": "markdown",
   "id": "79c400c3",
   "metadata": {},
   "source": [
    "We can now define the second fundamental form"
   ]
  },
  {
   "cell_type": "code",
   "execution_count": 20,
   "id": "e47bb3ff",
   "metadata": {},
   "outputs": [],
   "source": [
    "def II(u, v, a, b, c):\n",
    "    II = np.zeros((2, 2))\n",
    "    \n",
    "    # Equations found in slide 37 lecture 5\n",
    "    II[0, 0] = p_uu(u, v, a, b, c).T @ n(u, v, a, b, c)\n",
    "    diag_term = p_uv(u, v, a, b, c).T @ n(u, v, a, b, c)\n",
    "    II[0, 1] = diag_term\n",
    "    II[1, 0] = diag_term\n",
    "    II[1, 1] = p_vv(u, v, a, b, c).T @ n(u, v, a, b, c)\n",
    "    \n",
    "    return II"
   ]
  },
  {
   "cell_type": "markdown",
   "id": "bbf5cbcd",
   "metadata": {},
   "source": [
    "cf Geogebra, mtn qu'on est à un pt en particulier -> on définit des directions selon phi (slide 36 lecture 05), on va avoir des curvatures et après on coma"
   ]
  },
  {
   "cell_type": "markdown",
   "id": "0c8b4298",
   "metadata": {},
   "source": [
    "To define the normal curvature as a function of a direction on the tangent plane, we will use the formula directly defining $\\kappa_{n}$ in (slide 36 lecture 05). In our case, $(a, b) = (\\cos{(\\phi)}, \\sin{(\\phi)}) $, where $\\phi$ is a direction on the local tangent plane."
   ]
  },
  {
   "cell_type": "code",
   "execution_count": 21,
   "id": "60da8f81",
   "metadata": {},
   "outputs": [],
   "source": [
    "def kappa_n(phi, u, v, a, b, c):\n",
    "\n",
    "    # First fundamental form\n",
    "    I_ = I(u, v, a, b, c)\n",
    "    E = I_[0, 0]\n",
    "    F = I_[0, 1]\n",
    "    G = I_[1, 1]\n",
    "    \n",
    "    # Second fundamental form\n",
    "    II_ = II(u, v, a, b, c)\n",
    "    e = II_[0, 0]\n",
    "    f = II_[0, 1]\n",
    "    g = II_[1, 1]\n",
    "    \n",
    "    # Direction on the tangent place\n",
    "    A = np.cos(phi)\n",
    "    B = np.sin(phi)\n",
    "    \n",
    "    kappa_n = (e*(A**2) + 2*f*A*B + g*(B**2)) / (E*(A**2) + 2*F*A*B + G*(B**2))\n",
    "    \n",
    "    return kappa_n"
   ]
  },
  {
   "cell_type": "markdown",
   "id": "67b245e1",
   "metadata": {},
   "source": [
    "## 3. Non-uniform Laplace (Discrete Laplace-Beltrami)\n",
    "\n",
    "We will build upon the functions already implemented in 1. The formula for this discretization can be found in slide 24 of lecture 6. We can re-use the area normalization, and we will need to retrieve the angles from each triangle to have the cotangent discretization."
   ]
  },
  {
   "cell_type": "code",
   "execution_count": 26,
   "id": "b86b4b39",
   "metadata": {},
   "outputs": [],
   "source": [
    "def non_uniform_laplacian(input_mesh):\n",
    "    mesh = input_mesh.copy()\n",
    "    \n",
    "    nb_vertices = mesh.vertices.shape[0]\n",
    "    laplacian = np.zeros((nb_vertices, 3))\n",
    "    \n",
    "    # We need to normalize by 1/(2*normalized_area), we compute that here\n",
    "    norm_area = 2*normalization_area(input_mesh)\n",
    "    norm_area_inv = 1/norm_area\n",
    "    \n",
    "    # Iterating over every vertex\n",
    "    for i in range(nb_vertices):\n",
    "        \n",
    "        # Here is our vertex of interest\n",
    "        x_i = mesh.vertices[i, :]\n",
    "        \n",
    "        # Here are its neighbors\n",
    "        N_1_x_i = choose_best_neighbors(mesh, i, np.array(mesh.vertex_neighbors[i]))\n",
    "        \n",
    "        # We iterate over the vertices to have a list of triangles\n",
    "        list_of_triangles_i = np.zeros((N_1_x_i.shape[0], 3, 3))\n",
    "    \n",
    "        for k in range(0, N_1_x_i.shape[0]-1):\n",
    "        \n",
    "            list_of_triangles_i[k, 0, :] = x_i\n",
    "            list_of_triangles_i[k, 1, :] = mesh.vertices[N_1_x_i[k], :]\n",
    "            list_of_triangles_i[k, 2, :] = mesh.vertices[N_1_x_i[k+1], :]\n",
    "            \n",
    "        list_of_triangles_i[-1, 0, :] = x_i\n",
    "        list_of_triangles_i[-1, 1, :] = mesh.vertices[N_1_x_i[-1], :]\n",
    "        list_of_triangles_i[-1, 2, :] = mesh.vertices[N_1_x_i[0], :]\n",
    "            \n",
    "        # We compute all the angles\n",
    "        trimesh_angles = trimesh.triangles.angles(list_of_triangles_i)\n",
    "        \n",
    "        lap_i = np.zeros((1,3))\n",
    "        # Iterating over its neighbors\n",
    "        for j in range(1, N_1_x_i.shape[0]): # We skip the first one, we will handle it after\n",
    "            \n",
    "            x_j = mesh.vertices[N_1_x_i[j], :]\n",
    "            lap_i += ( (1/np.tan(trimesh_angles[j-1, 1])) + (1/np.tan(trimesh_angles[j, 2])) ) * (x_j - x_i)\n",
    "        \n",
    "        # Handling the 0 case apart\n",
    "        x_j = mesh.vertices[N_1_x_i[0], :]\n",
    "        lap_i += ( (1/np.tan(trimesh_angles[-1, 1])) + (1/np.tan(trimesh_angles[0, 2]))) * (x_j - x_i)\n",
    "        \n",
    "        # Normalizing + storing our result\n",
    "        laplacian[i, :] = lap_i/norm_area_inv[i]\n",
    "        \n",
    "    return laplacian  "
   ]
  },
  {
   "cell_type": "code",
   "execution_count": 27,
   "id": "a74e1f88",
   "metadata": {},
   "outputs": [],
   "source": [
    "## MATRIX VERSION\n",
    "\n",
    "def non_uniform_laplacian(input_mesh):\n",
    "    mesh = input_mesh.copy()\n",
    "    \n",
    "    nb_vertices = mesh.vertices.shape[0]\n",
    "    A = lil_matrix((nb_vertices, nb_vertices))\n",
    "    \n",
    "    # We need to normalize by 1/(2*normalized_area), we compute that here\n",
    "    norm_area = 2*normalization_area(input_mesh)\n",
    "    norm_area_inv = 1/norm_area\n",
    "    \n",
    "    # Iterating over every vertex\n",
    "    for i in range(nb_vertices):\n",
    "        \n",
    "        # Here is our vertex of interest\n",
    "        x_i = mesh.vertices[i, :]\n",
    "        \n",
    "        # Here are its neighbors\n",
    "        N_1_x_i = choose_best_neighbors(mesh, i, np.array(mesh.vertex_neighbors[i]))\n",
    "        \n",
    "        # We iterate over the vertices to have a list of triangles\n",
    "        list_of_triangles_i = np.zeros((N_1_x_i.shape[0], 3, 3))\n",
    "        \n",
    "        norm_area_inv_i = norm_area_inv[i]\n",
    "    \n",
    "        for k in range(0, N_1_x_i.shape[0]-1):\n",
    "        \n",
    "            list_of_triangles_i[k, 0, :] = x_i\n",
    "            list_of_triangles_i[k, 1, :] = mesh.vertices[N_1_x_i[k], :]\n",
    "            list_of_triangles_i[k, 2, :] = mesh.vertices[N_1_x_i[k+1], :]\n",
    "            \n",
    "        list_of_triangles_i[-1, 0, :] = x_i\n",
    "        list_of_triangles_i[-1, 1, :] = mesh.vertices[N_1_x_i[-1], :]\n",
    "        list_of_triangles_i[-1, 2, :] = mesh.vertices[N_1_x_i[0], :]\n",
    "            \n",
    "        # We compute all the angles\n",
    "        trimesh_angles = trimesh.triangles.angles(list_of_triangles_i)\n",
    "        \n",
    "        # Iterating over its neighbors\n",
    "        for j in range(1, N_1_x_i.shape[0]): # We skip the first one, we will handle it after\n",
    "            \n",
    "            cotan_term = (1/np.tan(trimesh_angles[j-1, 1])) + (1/np.tan(trimesh_angles[j, 2]))\n",
    "            A[i, N_1_x_i[j]] = cotan_term/norm_area_inv_i\n",
    "            A[i, i] += -cotan_term/norm_area_inv_i\n",
    "        \n",
    "        # Handling the 0 case apart\n",
    "        cotan_term = (1/np.tan(trimesh_angles[-1, 1])) + (1/np.tan(trimesh_angles[0, 2]))\n",
    "        A[i, N_1_x_i[0]] = cotan_term/norm_area_inv_i\n",
    "        A[i, i] += -cotan_term/norm_area_inv_i\n",
    "        \n",
    "    return A  "
   ]
  },
  {
   "cell_type": "code",
   "execution_count": 28,
   "id": "d6d0b2c3",
   "metadata": {},
   "outputs": [],
   "source": [
    "def non_uniform_H(input_mesh):\n",
    "    \n",
    "    laplacian = non_uniform_laplacian(input_mesh)\n",
    "    \n",
    "    H = np.zeros((input_mesh.vertices.shape[0], 1))\n",
    "    for i in range(input_mesh.vertices.shape[0]):\n",
    "        \n",
    "        H[i] = np.sqrt(np.sum(laplacian[i, :]**2))/2\n",
    "        \n",
    "    return H"
   ]
  },
  {
   "cell_type": "code",
   "execution_count": 29,
   "id": "083ad4a8",
   "metadata": {},
   "outputs": [],
   "source": [
    "## MATRIX VERSION\n",
    "\n",
    "def non_uniform_H(input_mesh):\n",
    "    \n",
    "    mesh = input_mesh.copy()\n",
    "    nb_vertices = mesh.vertices.shape[0]\n",
    "    A = non_uniform_laplacian(input_mesh)\n",
    "    \n",
    "    H_1 = A @ mesh.vertices[:, 0] \n",
    "    H_2 = A @ mesh.vertices[:, 1] \n",
    "    H_3 = A @ mesh.vertices[:, 2] \n",
    "    \n",
    "    H = np.sqrt(H_1**2 + H_2**2 + H_3**2)/2\n",
    "        \n",
    "    return H"
   ]
  },
  {
   "cell_type": "markdown",
   "id": "ead8bf0c",
   "metadata": {},
   "source": [
    "## 4. Modal analysis\n",
    "\n",
    "Previously, we have created functions to compute the Laplace-Beltrami operaor $\\Delta_{s}$. We will now use built-in numpy functions to compute the eigenvalues/eigenvectors of this operator, and perform reconstruction on some examples."
   ]
  },
  {
   "cell_type": "code",
   "execution_count": 56,
   "id": "b2cdc35e",
   "metadata": {},
   "outputs": [],
   "source": [
    "def spectral_reconstruction(input_mesh, L, k):\n",
    "    \n",
    "    mesh = input_mesh.copy()\n",
    "\n",
    "    # Computing the eigenvector/values\n",
    "    eigval, eigvec = eigs(L, k=k, which='SM')\n",
    "\n",
    "    # Reconstruction\n",
    "    mesh.vertices[:, 0] = (mesh.vertices[:, 0].T @ eigvec) @ eigvec.T\n",
    "    mesh.vertices[:, 1] = (mesh.vertices[:, 1].T @ eigvec) @ eigvec.T\n",
    "    mesh.vertices[:, 2] = (mesh.vertices[:, 2].T @ eigvec) @ eigvec.T\n",
    "    \n",
    "    return mesh"
   ]
  },
  {
   "cell_type": "markdown",
   "id": "2068a311",
   "metadata": {},
   "source": [
    "## 5. Explicit Laplacian Mesh Smoothing\n",
    "\n",
    "The equation seen in the lecture for explicit laplacian mesh smoothing is the following:\n",
    "\n",
    "$$\n",
    "\\textbf{X}^{t+1} = (\\textbf{I} + \\lambda \\textbf{L}) \\textbf{X}^{t}\n",
    "$$\n",
    "\n",
    "where $\\textbf{X}$ represents the mesh vertices, $\\textbf{I}$ the identity matrix, $\\textbf{L}$ is the Laplace-Beltrami operator, $t$ represents the iteration number, and $\\lambda$ is a scalar. We have seen that usually the method only works with small $\\lambda$ values. We will implement this function and try varying this scalar value."
   ]
  },
  {
   "cell_type": "code",
   "execution_count": 31,
   "id": "37b2b1a8",
   "metadata": {},
   "outputs": [],
   "source": [
    "def explicit_smoothing(input_mesh, L, lambdaVal, k):\n",
    "    \n",
    "    mesh = input_mesh.copy()\n",
    "    nb_vertices = mesh.vertices.shape[0]\n",
    "    \n",
    "    # Building the smoothing matrix\n",
    "    smoothing_matrix = eye(nb_vertices) + lambdaVal*L\n",
    "    \n",
    "    for l in range(k):\n",
    "        mesh.vertices = smoothing_matrix * mesh.vertices\n",
    "        \n",
    "    return mesh"
   ]
  },
  {
   "cell_type": "markdown",
   "id": "7fc117dc",
   "metadata": {},
   "source": [
    "## 6. Implicit Laplacian Mesh Smoothing\n",
    "\n",
    "The equation seen in the lecture, and is equation (9) in Desbrun et al.: Implicit Fairing of Irregular Meshes using Diffusion and Curvature Flow Siggraph ’99, for implicit laplacian mesh smoothing is the following:\n",
    "\n",
    "$$\n",
    "(\\textbf{I} - \\lambda \\textbf{L}) \\textbf{X}^{t+1} = \\textbf{X}^{t}\n",
    "$$\n",
    "\n",
    "The difference with the explicit equation, is that now we play with the next vertices rather than the current vertices, we try to define the gradient of the next vertices (hence the (-) symbol). \n",
    "Also, let's note that previously, we just iterated on the current points, but here the matrix is located on the left side of the equation: we could either invert the matrix to find $\\textbf{X}^{t+1}$ (but given the dimensions of our matrix, it is really not recommended), or interpret this as a linear equation, and solve using linear solvers (this is the method we will follow, using scipy's spsolve)."
   ]
  },
  {
   "cell_type": "code",
   "execution_count": 32,
   "id": "2bde0532",
   "metadata": {},
   "outputs": [],
   "source": [
    "def implicit_smoothing(input_mesh, L, lambdaVal, k):\n",
    "    \n",
    "    mesh = input_mesh.copy()\n",
    "    nb_vertices = mesh.vertices.shape[0]\n",
    "    \n",
    "    # Building the smoothing matrix\n",
    "    smoothing_matrix = eye(nb_vertices) - lambdaVal*L\n",
    "    \n",
    "    for l in range(k): # Iterating\n",
    "        \n",
    "        # spsolve only accepts (n,) or (n,1)-sized right-side vectors, so we will process coordinate by coordinate\n",
    "        mesh.vertices[:, 0] = spsolve(smoothing_matrix, mesh.vertices[:, 0])\n",
    "        mesh.vertices[:, 1] = spsolve(smoothing_matrix, mesh.vertices[:, 1])\n",
    "        mesh.vertices[:, 2] = spsolve(smoothing_matrix, mesh.vertices[:, 2])\n",
    "        \n",
    "    return mesh"
   ]
  },
  {
   "cell_type": "markdown",
   "id": "6a62e586",
   "metadata": {},
   "source": [
    "## 7. Laplacian Mesh Denoising\n",
    "\n",
    "We will generate noisy meshes from the meshes provided for the coursework, and we will use the previously implemented methods to perform denoising, and evaluate the performance of each one."
   ]
  },
  {
   "cell_type": "code",
   "execution_count": 123,
   "id": "d5e5b491",
   "metadata": {},
   "outputs": [],
   "source": [
    "def add_noise_mesh(mesh, std):\n",
    "    mesh_copy = mesh.copy()\n",
    "    \n",
    "    # We scale the normal noise according to the smallest bounding value for each coordinate\n",
    "    # /!\\ We use the centered mesh\n",
    "    noise_x = std*np.random.randn(mesh_copy.vertices.shape[0])*max(abs(np.amin(mesh_copy.vertices[:, 0])),abs(np.amax(mesh_copy.vertices[:, 0])))\n",
    "    noise_y = std*np.random.randn(mesh_copy.vertices.shape[0])*max(abs(np.amin(mesh_copy.vertices[:, 1])),abs(np.amax(mesh_copy.vertices[:, 1])))\n",
    "    noise_z = std*np.random.randn(mesh_copy.vertices.shape[0])*max(abs(np.amin(mesh_copy.vertices[:, 2])),abs(np.amax(mesh_copy.vertices[:, 2])))\n",
    "\n",
    "    # Adding noise to each coordinate\n",
    "    mesh_copy.vertices[:, 0] += noise_x\n",
    "    mesh_copy.vertices[:, 1] += noise_y\n",
    "    mesh_copy.vertices[:, 2] += noise_z\n",
    "    \n",
    "    return mesh_copy"
   ]
  },
  {
   "cell_type": "markdown",
   "id": "6120944a",
   "metadata": {},
   "source": [
    "### Test Area"
   ]
  },
  {
   "cell_type": "markdown",
   "id": "418bcd6b",
   "metadata": {},
   "source": [
    "#### Importing meshes"
   ]
  },
  {
   "cell_type": "code",
   "execution_count": 33,
   "id": "6e7ea1c9",
   "metadata": {},
   "outputs": [],
   "source": [
    "bumpy_cube = trimesh.load('meshes/bumpy-cube.obj', process=False) "
   ]
  },
  {
   "cell_type": "code",
   "execution_count": 34,
   "id": "6620a506",
   "metadata": {},
   "outputs": [],
   "source": [
    "camel = trimesh.load('meshes/camel.obj', process=False) "
   ]
  },
  {
   "cell_type": "code",
   "execution_count": 35,
   "id": "952cc8dd",
   "metadata": {},
   "outputs": [],
   "source": [
    "bunny = trimesh.load('meshes/bunny.obj', process=False) "
   ]
  },
  {
   "cell_type": "code",
   "execution_count": 36,
   "id": "51a3090e",
   "metadata": {},
   "outputs": [],
   "source": [
    "fandisk_ns = trimesh.load('meshes/smoothing/fandisk_ns.obj', process=False) "
   ]
  },
  {
   "cell_type": "code",
   "execution_count": 37,
   "id": "7671027e",
   "metadata": {},
   "outputs": [],
   "source": [
    "plane_ns = trimesh.load('meshes/smoothing/plane_ns.obj', process=False) "
   ]
  },
  {
   "cell_type": "code",
   "execution_count": 53,
   "id": "ae897acc",
   "metadata": {},
   "outputs": [],
   "source": [
    "armadillo = trimesh.load('meshes/decomposition/armadillo.obj', process=False) "
   ]
  },
  {
   "cell_type": "code",
   "execution_count": 59,
   "id": "19d4fae9",
   "metadata": {},
   "outputs": [],
   "source": [
    "lilium_s = trimesh.load('meshes/curvatures/lilium_s.obj', process=False) "
   ]
  },
  {
   "cell_type": "code",
   "execution_count": 60,
   "id": "e8af2e8b",
   "metadata": {},
   "outputs": [],
   "source": [
    "plane = trimesh.load('meshes/curvatures/plane.obj', process=False) "
   ]
  },
  {
   "cell_type": "code",
   "execution_count": 145,
   "id": "2939294d",
   "metadata": {},
   "outputs": [],
   "source": [
    "cube = trimesh.load('meshes/cube.obj', process=False) "
   ]
  },
  {
   "cell_type": "code",
   "execution_count": 151,
   "id": "caf1bc64",
   "metadata": {},
   "outputs": [],
   "source": [
    "cow_small_manifold2 = trimesh.load('meshes/cow_small_manifold2.obj', process=False) "
   ]
  },
  {
   "cell_type": "code",
   "execution_count": 161,
   "id": "f0baf0c0",
   "metadata": {},
   "outputs": [
    {
     "data": {
      "text/plain": [
       "(3485, 3)"
      ]
     },
     "execution_count": 161,
     "metadata": {},
     "output_type": "execute_result"
    }
   ],
   "source": [
    "bunny.vertices.shape"
   ]
  },
  {
   "cell_type": "code",
   "execution_count": 152,
   "id": "517cc1b5",
   "metadata": {},
   "outputs": [
    {
     "data": {
      "text/plain": [
       "(304, 3)"
      ]
     },
     "execution_count": 152,
     "metadata": {},
     "output_type": "execute_result"
    }
   ],
   "source": [
    "cow_small_manifold2.vertices.shape"
   ]
  },
  {
   "cell_type": "markdown",
   "id": "10dde60b",
   "metadata": {},
   "source": [
    "#### Denoising"
   ]
  },
  {
   "cell_type": "code",
   "execution_count": 153,
   "id": "c8a45680",
   "metadata": {},
   "outputs": [],
   "source": [
    "# Using a centred mesh\n",
    "bunny_c = cow_small_manifold2.copy()\n",
    "bunny_c.vertices -= bunny_c.centroid"
   ]
  },
  {
   "cell_type": "code",
   "execution_count": 154,
   "id": "05367083",
   "metadata": {},
   "outputs": [],
   "source": [
    "# Generating noisy models\n",
    "bunny_c_001 = add_noise_mesh(bunny_c, 0.001)\n",
    "bunny_c_005 = add_noise_mesh(bunny_c, 0.005)\n",
    "bunny_c_01 = add_noise_mesh(bunny_c, 0.01)\n",
    "bunny_c_05 = add_noise_mesh(bunny_c, 0.05)"
   ]
  },
  {
   "cell_type": "code",
   "execution_count": 155,
   "id": "59954ed4",
   "metadata": {},
   "outputs": [
    {
     "name": "stdout",
     "output_type": "stream",
     "text": [
      "done with exportation\n"
     ]
    }
   ],
   "source": [
    "# Exporting them\n",
    "bunny_c_001.export('bunny_c_001.obj')\n",
    "bunny_c_005.export('bunny_c_005.obj')\n",
    "bunny_c_01.export('bunny_c_01.obj')\n",
    "bunny_c_05.export('bunny_c_05.obj')\n",
    "print('done with exportation')"
   ]
  },
  {
   "cell_type": "code",
   "execution_count": 156,
   "id": "ca786d83",
   "metadata": {},
   "outputs": [],
   "source": [
    "# Computing the non-uniform Laplacians\n",
    "L_bunny_c = non_uniform_laplacian(bunny_c)\n",
    "L_bunny_c_001 = non_uniform_laplacian(bunny_c_001)\n",
    "L_bunny_c_005 = non_uniform_laplacian(bunny_c_005)\n",
    "L_bunny_c_01 = non_uniform_laplacian(bunny_c_01)\n",
    "L_bunny_c_05 = non_uniform_laplacian(bunny_c_05)"
   ]
  },
  {
   "cell_type": "code",
   "execution_count": null,
   "id": "74e8160d",
   "metadata": {},
   "outputs": [],
   "source": [
    "# Computing also the uniform Laplacians\n",
    "L_bunny_c_uni = uniform_laplacian(bunny_c)\n",
    "L_bunny_c_001_uni = uniform_laplacian(bunny_c_001)\n",
    "L_bunny_c_005_uni = uniform_laplacian(bunny_c_005)\n",
    "L_bunny_c_01_uni = uniform_laplacian(bunny_c_01)\n",
    "L_bunny_c_05_uni = uniform_laplacian(bunny_c_05)"
   ]
  },
  {
   "cell_type": "code",
   "execution_count": 157,
   "id": "1e0fe5ec",
   "metadata": {},
   "outputs": [],
   "source": [
    "# Implicit smoothing\n",
    "bunny_c_001_implicit = implicit_smoothing(bunny_c_001, L_bunny_c_001, 0.01, 2000)\n",
    "bunny_c_005_implicit = implicit_smoothing(bunny_c_005, L_bunny_c_005, 0.01, 2000)\n",
    "bunny_c_01_implicit = implicit_smoothing(bunny_c_01, L_bunny_c_01, 0.01, 2000)\n",
    "bunny_c_05_implicit = implicit_smoothing(bunny_c_05, L_bunny_c_05, 0.01, 2000)"
   ]
  },
  {
   "cell_type": "code",
   "execution_count": 158,
   "id": "b3ecf460",
   "metadata": {},
   "outputs": [],
   "source": [
    "# Implicit smoothing BUT with the original mesh Laplacian\n",
    "bunny_c_001_implicitORIGINAL = implicit_smoothing(bunny_c_001, L_bunny_c, 0.01, 2000)\n",
    "bunny_c_005_implicitORIGINAL = implicit_smoothing(bunny_c_005, L_bunny_c, 0.01, 2000)\n",
    "bunny_c_01_implicitORIGINAL = implicit_smoothing(bunny_c_01, L_bunny_c, 0.01, 2000)\n",
    "bunny_c_05_implicitORIGINAL = implicit_smoothing(bunny_c_05, L_bunny_c, 0.01, 2000)"
   ]
  },
  {
   "cell_type": "code",
   "execution_count": 159,
   "id": "48c6346e",
   "metadata": {
    "scrolled": true
   },
   "outputs": [
    {
     "name": "stdout",
     "output_type": "stream",
     "text": [
      "done with exportation\n"
     ]
    }
   ],
   "source": [
    "# Exporting the denoised meshes\n",
    "bunny_c_001_implicit.export('bunny_c_001_implicit.obj')\n",
    "bunny_c_005_implicit.export('bunny_c_005_implicit.obj')\n",
    "bunny_c_01_implicit.export('bunny_c_01_implicit.obj')\n",
    "bunny_c_05_implicit.export('bunny_c_05_implicit.obj')\n",
    "bunny_c_001_implicitORIGINAL.export('bunny_c_001_implicitORIGINAL.obj')\n",
    "bunny_c_005_implicitORIGINAL.export('bunny_c_005_implicitORIGINAL.obj')\n",
    "bunny_c_01_implicitORIGINAL.export('bunny_c_01_implicitORIGINAL.obj')\n",
    "bunny_c_05_implicitORIGINAL.export('bunny_c_05_implicitORIGINAL.obj')\n",
    "print('done with exportation')"
   ]
  },
  {
   "cell_type": "code",
   "execution_count": 160,
   "id": "9c2e7daf",
   "metadata": {},
   "outputs": [
    {
     "name": "stdout",
     "output_type": "stream",
     "text": [
      "done with exportation\n"
     ]
    }
   ],
   "source": [
    "# We will now try with the explicit smoothing\n",
    "bunny_c_001_explicit = explicit_smoothing(bunny_c_001, L_bunny_c_001, 0.1, 20000)\n",
    "bunny_c_005_explicit = explicit_smoothing(bunny_c_005, L_bunny_c_005, 0.1, 20000)\n",
    "bunny_c_01_explicit = explicit_smoothing(bunny_c_01, L_bunny_c_01, 0.1, 20000)\n",
    "bunny_c_05_explicit = explicit_smoothing(bunny_c_05, L_bunny_c_05, 0.1, 20000)\n",
    "bunny_c_001_explicitORIGINAL = explicit_smoothing(bunny_c_001, L_bunny_c, 0.1, 20000)\n",
    "bunny_c_005_explicitORIGINAL = explicit_smoothing(bunny_c_005, L_bunny_c, 0.1, 20000)\n",
    "bunny_c_01_explicitORIGINAL = explicit_smoothing(bunny_c_01, L_bunny_c, 0.1, 20000)\n",
    "bunny_c_05_explicitORIGINAL = explicit_smoothing(bunny_c_05, L_bunny_c, 0.1, 20000)\n",
    "bunny_c_001_explicit.export('bunny_c_001_explicit.obj')\n",
    "bunny_c_005_explicit.export('bunny_c_005_explicit.obj')\n",
    "bunny_c_01_explicit.export('bunny_c_01_explicit.obj')\n",
    "bunny_c_05_explicit.export('bunny_c_05_explicit.obj')\n",
    "bunny_c_001_explicitORIGINAL.export('bunny_c_001_explicitORIGINAL.obj')\n",
    "bunny_c_005_explicitORIGINAL.export('bunny_c_005_explicitORIGINAL.obj')\n",
    "bunny_c_01_explicitORIGINAL.export('bunny_c_01_explicitORIGINAL.obj')\n",
    "bunny_c_05_explicitORIGINAL.export('bunny_c_05_explicitORIGINAL.obj')\n",
    "print('done with exportation')"
   ]
  },
  {
   "cell_type": "markdown",
   "id": "c2385492",
   "metadata": {},
   "source": [
    "#### Normal curvature"
   ]
  },
  {
   "cell_type": "code",
   "execution_count": 45,
   "id": "4c4c55d1",
   "metadata": {},
   "outputs": [],
   "source": [
    "phi = np.linspace(0, np.pi)"
   ]
  },
  {
   "cell_type": "markdown",
   "id": "86f08eb3",
   "metadata": {},
   "source": [
    "Computed for the requested parameters: $(a, 0, 0)$"
   ]
  },
  {
   "cell_type": "code",
   "execution_count": 50,
   "id": "994f1db3",
   "metadata": {},
   "outputs": [
    {
     "name": "stderr",
     "output_type": "stream",
     "text": [
      "<ipython-input-21-55bc13fb71e2>:19: RuntimeWarning: invalid value encountered in divide\n",
      "  kappa_n = (e*(A**2) + 2*f*A*B + g*(B**2)) / (E*(A**2) + 2*F*A*B + G*(B**2))\n"
     ]
    },
    {
     "data": {
      "image/png": "[encoded data removed]",
      "text/plain": [
       "<Figure size 432x288 with 1 Axes>"
      ]
     },
     "metadata": {
      "needs_background": "light"
     },
     "output_type": "display_data"
    }
   ],
   "source": [
    "kappa_n_0_05pi = kappa_n(phi, 0, np.pi/2, 1.2, 0, 0)\n",
    "plt.plot(phi, kappa_n_0_05pi)\n",
    "plt.title('Normal curvature along different directions of the local tangent plane')\n",
    "plt.xlabel('Angle of the direction of the local tangent plane (rad)')\n",
    "plt.ylabel('Normal curvature value')\n",
    "plt.show()"
   ]
  },
  {
   "cell_type": "code",
   "execution_count": 51,
   "id": "6913b35d",
   "metadata": {},
   "outputs": [
    {
     "data": {
      "image/png": "[encoded data removed]",
      "text/plain": [
       "<Figure size 432x288 with 1 Axes>"
      ]
     },
     "metadata": {
      "needs_background": "light"
     },
     "output_type": "display_data"
    }
   ],
   "source": [
    "kappa_n_0_05pi = kappa_n(phi, 0, np.pi/2, 1.2, 4, 3)\n",
    "plt.plot(phi, kappa_n_0_05pi)\n",
    "plt.title('Normal curvature along different directions of the local tangent plane')\n",
    "plt.xlabel('Angle of the direction of the local tangent plane (rad)')\n",
    "plt.ylabel('Normal curvature value')\n",
    "plt.show()"
   ]
  },
  {
   "cell_type": "markdown",
   "id": "3ae647a9",
   "metadata": {},
   "source": [
    "#### Implicit smoothing"
   ]
  },
  {
   "cell_type": "code",
   "execution_count": 71,
   "id": "b708c5bb",
   "metadata": {},
   "outputs": [
    {
     "ename": "NameError",
     "evalue": "name 'string' is not defined",
     "output_type": "error",
     "traceback": [
      "\u001b[1;31m---------------------------------------------------------------------------\u001b[0m",
      "\u001b[1;31mNameError\u001b[0m                                 Traceback (most recent call last)",
      "\u001b[1;32m<ipython-input-71-c255c21ea7af>\u001b[0m in \u001b[0;36m<module>\u001b[1;34m\u001b[0m\n\u001b[0;32m      5\u001b[0m \u001b[0mplane_01_3000_implicit\u001b[0m \u001b[1;33m=\u001b[0m \u001b[0mimplicit_smoothing\u001b[0m\u001b[1;33m(\u001b[0m\u001b[0mplane_ns\u001b[0m\u001b[1;33m,\u001b[0m \u001b[0mL_plane_ns_uniform\u001b[0m\u001b[1;33m,\u001b[0m \u001b[1;36m0.01\u001b[0m\u001b[1;33m,\u001b[0m \u001b[1;36m3000\u001b[0m\u001b[1;33m)\u001b[0m\u001b[1;33m\u001b[0m\u001b[1;33m\u001b[0m\u001b[0m\n\u001b[0;32m      6\u001b[0m \u001b[0mendt\u001b[0m \u001b[1;33m=\u001b[0m \u001b[0mtime\u001b[0m\u001b[1;33m.\u001b[0m\u001b[0mtime\u001b[0m\u001b[1;33m(\u001b[0m\u001b[1;33m)\u001b[0m\u001b[1;33m\u001b[0m\u001b[1;33m\u001b[0m\u001b[0m\n\u001b[1;32m----> 7\u001b[1;33m \u001b[0mprint\u001b[0m\u001b[1;33m(\u001b[0m\u001b[1;34m'Compute time: '\u001b[0m\u001b[1;33m+\u001b[0m\u001b[0mstring\u001b[0m\u001b[1;33m(\u001b[0m\u001b[0mendt\u001b[0m\u001b[1;33m-\u001b[0m\u001b[0mstartt\u001b[0m\u001b[1;33m)\u001b[0m\u001b[1;33m)\u001b[0m\u001b[1;33m\u001b[0m\u001b[1;33m\u001b[0m\u001b[0m\n\u001b[0m",
      "\u001b[1;31mNameError\u001b[0m: name 'string' is not defined"
     ]
    }
   ],
   "source": [
    "startt = time.time()\n",
    "plane_01_250_implicit = implicit_smoothing(plane_ns, L_plane_ns_uniform, 0.01, 250)\n",
    "plane_01_500_implicit = implicit_smoothing(plane_ns, L_plane_ns_uniform, 0.01, 500)\n",
    "plane_01_1000_implicit = implicit_smoothing(plane_ns, L_plane_ns_uniform, 0.01, 1000)\n",
    "plane_01_3000_implicit = implicit_smoothing(plane_ns, L_plane_ns_uniform, 0.01, 3000)\n",
    "endt = time.time()\n",
    "print('Compute time: '+str(endt-startt))"
   ]
  },
  {
   "cell_type": "code",
   "execution_count": 72,
   "id": "b8768e95",
   "metadata": {},
   "outputs": [
    {
     "name": "stdout",
     "output_type": "stream",
     "text": [
      "done with exportation\n"
     ]
    }
   ],
   "source": [
    "plane_01_250_implicit.export('plane_01_250_implicit.obj')\n",
    "plane_01_500_implicit.export('plane_01_500_implicit.obj')\n",
    "plane_01_1000_implicit.export('plane_01_1000_implicit.obj')\n",
    "plane_01_3000_implicit.export('plane_01_3000_implicit.obj')\n",
    "print('done with exportation')"
   ]
  },
  {
   "cell_type": "code",
   "execution_count": 73,
   "id": "8d3dbe15",
   "metadata": {},
   "outputs": [
    {
     "name": "stdout",
     "output_type": "stream",
     "text": [
      "Compute time: 605.167382478714\n"
     ]
    }
   ],
   "source": [
    "startt = time.time()\n",
    "fandisk_01_250_implicit = implicit_smoothing(fandisk_ns, L_fandisk_ns_uniform, 0.01, 250)\n",
    "fandisk_01_500_implicit = implicit_smoothing(fandisk_ns, L_fandisk_ns_uniform, 0.01, 500)\n",
    "fandisk_01_1000_implicit = implicit_smoothing(fandisk_ns, L_fandisk_ns_uniform, 0.01, 1000)\n",
    "fandisk_01_3000_implicit = implicit_smoothing(fandisk_ns, L_fandisk_ns_uniform, 0.01, 3000)\n",
    "endt = time.time()\n",
    "print('Compute time: '+str(endt-startt))"
   ]
  },
  {
   "cell_type": "code",
   "execution_count": 74,
   "id": "d18682d3",
   "metadata": {},
   "outputs": [
    {
     "name": "stdout",
     "output_type": "stream",
     "text": [
      "done with exportation\n"
     ]
    }
   ],
   "source": [
    "fandisk_01_250_implicit.export('fandisk_01_250_implicit.obj')\n",
    "fandisk_01_500_implicit.export('fandisk_01_500_implicit.obj')\n",
    "fandisk_01_1000_implicit.export('fandisk_01_1000_implicit.obj')\n",
    "fandisk_01_3000_implicit.export('fandisk_01_3000_implicit.obj')\n",
    "print('done with exportation')"
   ]
  },
  {
   "cell_type": "markdown",
   "id": "bd970d07",
   "metadata": {},
   "source": [
    "#### Explicit smoothing"
   ]
  },
  {
   "cell_type": "code",
   "execution_count": 43,
   "id": "8abfc68d",
   "metadata": {},
   "outputs": [
    {
     "ename": "NameError",
     "evalue": "name 'string' is not defined",
     "output_type": "error",
     "traceback": [
      "\u001b[1;31m---------------------------------------------------------------------------\u001b[0m",
      "\u001b[1;31mNameError\u001b[0m                                 Traceback (most recent call last)",
      "\u001b[1;32m<ipython-input-43-02635fd29761>\u001b[0m in \u001b[0;36m<module>\u001b[1;34m\u001b[0m\n\u001b[0;32m      6\u001b[0m \u001b[0mL_plane_ns_non_uniform\u001b[0m \u001b[1;33m=\u001b[0m \u001b[0mnon_uniform_laplacian\u001b[0m\u001b[1;33m(\u001b[0m\u001b[0mplane_ns\u001b[0m\u001b[1;33m)\u001b[0m\u001b[1;33m\u001b[0m\u001b[1;33m\u001b[0m\u001b[0m\n\u001b[0;32m      7\u001b[0m \u001b[0mendt\u001b[0m \u001b[1;33m=\u001b[0m \u001b[0mtime\u001b[0m\u001b[1;33m.\u001b[0m\u001b[0mtime\u001b[0m\u001b[1;33m(\u001b[0m\u001b[1;33m)\u001b[0m\u001b[1;33m\u001b[0m\u001b[1;33m\u001b[0m\u001b[0m\n\u001b[1;32m----> 8\u001b[1;33m \u001b[0mprint\u001b[0m\u001b[1;33m(\u001b[0m\u001b[1;34m'Compute time: '\u001b[0m\u001b[1;33m+\u001b[0m\u001b[0mstring\u001b[0m\u001b[1;33m(\u001b[0m\u001b[0mendt\u001b[0m\u001b[1;33m-\u001b[0m\u001b[0mstartt\u001b[0m\u001b[1;33m)\u001b[0m\u001b[1;33m)\u001b[0m\u001b[1;33m\u001b[0m\u001b[1;33m\u001b[0m\u001b[0m\n\u001b[0m",
      "\u001b[1;31mNameError\u001b[0m: name 'string' is not defined"
     ]
    }
   ],
   "source": [
    "# Computing the Laplacians\n",
    "startt = time.time()\n",
    "L_fandisk_ns_uniform = uniform_laplacian(fandisk_ns)\n",
    "L_fandisk_ns_non_uniform = non_uniform_laplacian(fandisk_ns)\n",
    "L_plane_ns_uniform = uniform_laplacian(plane_ns)\n",
    "L_plane_ns_non_uniform = non_uniform_laplacian(plane_ns)\n",
    "endt = time.time()\n",
    "print('Compute time: '+str(endt-startt))"
   ]
  },
  {
   "cell_type": "code",
   "execution_count": 57,
   "id": "70220163",
   "metadata": {},
   "outputs": [],
   "source": [
    "startt = time.time()\n",
    "plane_1_500 = explicit_smoothing(plane_ns, L_plane_ns_uniform, 1, 500)\n",
    "plane_1_1000 = explicit_smoothing(plane_ns, L_plane_ns_uniform, 1, 1000)\n",
    "plane_1_5000 = explicit_smoothing(plane_ns, L_plane_ns_uniform, 1, 5000)\n",
    "plane_1_20000 = explicit_smoothing(plane_ns, L_plane_ns_uniform, 1, 20000)\n",
    "endt = time.time()\n",
    "print('Compute time: '+str(endt-startt))"
   ]
  },
  {
   "cell_type": "code",
   "execution_count": 58,
   "id": "f7ef6f4e",
   "metadata": {},
   "outputs": [
    {
     "name": "stdout",
     "output_type": "stream",
     "text": [
      "done with exportation\n"
     ]
    }
   ],
   "source": [
    "plane_1_500.export('plane_1_500.obj')\n",
    "plane_1_1000.export('plane_1_1000.obj')\n",
    "plane_1_5000.export('plane_1_5000.obj')\n",
    "plane_1_20000.export('plane_1_20000.obj')\n",
    "print('done with exportation')"
   ]
  },
  {
   "cell_type": "code",
   "execution_count": 61,
   "id": "4798f858",
   "metadata": {},
   "outputs": [],
   "source": [
    "startt = time.time()\n",
    "fandisk_05_500 = explicit_smoothing(fandisk_ns, L_fandisk_ns_uniform, 0.05, 500)\n",
    "fandisk_05_1000 = explicit_smoothing(fandisk_ns, L_fandisk_ns_uniform, 0.05, 1000)\n",
    "fandisk_05_5000 = explicit_smoothing(fandisk_ns, L_fandisk_ns_uniform, 0.05, 5000)\n",
    "fandisk_05_20000 = explicit_smoothing(fandisk_ns, L_fandisk_ns_uniform, 0.05, 20000)\n",
    "endt = time.time()\n",
    "print('Compute time: '+str(endt-startt))"
   ]
  },
  {
   "cell_type": "code",
   "execution_count": 62,
   "id": "d8b832c8",
   "metadata": {},
   "outputs": [
    {
     "name": "stdout",
     "output_type": "stream",
     "text": [
      "done with exportation\n"
     ]
    }
   ],
   "source": [
    "fandisk_05_500.export('fandisk_05_500.obj')\n",
    "fandisk_05_1000.export('fandisk_05_1000.obj')\n",
    "fandisk_05_5000.export('fandisk_05_5000.obj')\n",
    "fandisk_05_20000.export('fandisk_05_20000.obj')\n",
    "print('done with exportation')"
   ]
  },
  {
   "cell_type": "markdown",
   "id": "c0bfc218",
   "metadata": {},
   "source": [
    "#### Spectral analysis"
   ]
  },
  {
   "cell_type": "code",
   "execution_count": 55,
   "id": "fc882a40",
   "metadata": {},
   "outputs": [],
   "source": [
    "# Computing the Laplacians\n",
    "L_armadillo_uniform = uniform_laplacian(armadillo)\n",
    "L_armadillo_non_uniform = non_uniform_laplacian(armadillo)"
   ]
  },
  {
   "cell_type": "code",
   "execution_count": 119,
   "id": "581d50d0",
   "metadata": {},
   "outputs": [],
   "source": [
    "res_mesh5 = spectral_reconstruction(armadillo, L_armadillo_uniform, 5)\n",
    "res_mesh15 = spectral_reconstruction(armadillo, L_armadillo_uniform, 15)\n",
    "res_mesh150 = spectral_reconstruction(armadillo, L_armadillo_uniform, 150)\n",
    "res_mesh300 = spectral_reconstruction(armadillo, L_armadillo_uniform, 300)"
   ]
  },
  {
   "cell_type": "code",
   "execution_count": 120,
   "id": "d0ccfcc5",
   "metadata": {},
   "outputs": [
    {
     "name": "stdout",
     "output_type": "stream",
     "text": [
      "done with exportation\n"
     ]
    }
   ],
   "source": [
    "res_mesh5.export('armadillo-uni-5.obj')\n",
    "res_mesh15.export('armadillo-uni-15.obj')\n",
    "res_mesh150.export('armadillo-uni-150.obj')\n",
    "res_mesh300.export('armadillo-uni-300.obj')\n",
    "print('done with exportation')"
   ]
  },
  {
   "cell_type": "code",
   "execution_count": 121,
   "id": "38b28cb5",
   "metadata": {},
   "outputs": [],
   "source": [
    "res_mesh5 = spectral_reconstruction(armadillo, L_armadillo_non_uniform, 5)\n",
    "res_mesh15 = spectral_reconstruction(armadillo, L_armadillo_non_uniform, 15)\n",
    "res_mesh150 = spectral_reconstruction(armadillo, L_armadillo_non_uniform, 150)\n",
    "res_mesh300 = spectral_reconstruction(armadillo, L_armadillo_non_uniform, 300)"
   ]
  },
  {
   "cell_type": "code",
   "execution_count": 122,
   "id": "5446b331",
   "metadata": {},
   "outputs": [
    {
     "name": "stdout",
     "output_type": "stream",
     "text": [
      "done with exportation\n"
     ]
    }
   ],
   "source": [
    "res_mesh5.export('armadillo-NONuni-5.obj')\n",
    "res_mesh15.export('armadillo-NONuni-15.obj')\n",
    "res_mesh150.export('armadillo-NONuni-150.obj')\n",
    "res_mesh300.export('armadillo-NONuni-300.obj')\n",
    "print('done with exportation')"
   ]
  },
  {
   "cell_type": "markdown",
   "id": "f896c702",
   "metadata": {},
   "source": [
    "#### Uniform Laplacian"
   ]
  },
  {
   "cell_type": "code",
   "execution_count": 70,
   "id": "ddcaea6c",
   "metadata": {},
   "outputs": [],
   "source": [
    "H_test = uniform_H(bumpy_cube)"
   ]
  },
  {
   "cell_type": "code",
   "execution_count": 71,
   "id": "4817681d",
   "metadata": {},
   "outputs": [],
   "source": [
    "H_test = H_test/np.amax(np.abs(H_test))"
   ]
  },
  {
   "cell_type": "code",
   "execution_count": 72,
   "id": "52dda9f0",
   "metadata": {},
   "outputs": [],
   "source": [
    "bumpy_cube.visual.vertex_colors = trimesh.visual.interpolate(H_test, color_map='jet')\n",
    "#bumpy_cube.visual.vertex_colors = trimesh.visual.interpolate(H_test, color_map='gnuplot2')"
   ]
  },
  {
   "cell_type": "code",
   "execution_count": 73,
   "id": "6ed75c31",
   "metadata": {},
   "outputs": [
    {
     "name": "stdout",
     "output_type": "stream",
     "text": [
      "done with exportation\n"
     ]
    }
   ],
   "source": [
    "bumpy_cube.export('bumpy-cube-colored.obj')\n",
    "print('done with exportation')"
   ]
  },
  {
   "cell_type": "code",
   "execution_count": 61,
   "id": "c2bfb618",
   "metadata": {},
   "outputs": [
    {
     "data": {
      "text/plain": [
       "0.004589300177375196"
      ]
     },
     "execution_count": 61,
     "metadata": {},
     "output_type": "execute_result"
    }
   ],
   "source": [
    "np.max(H_test)"
   ]
  },
  {
   "cell_type": "code",
   "execution_count": 62,
   "id": "201eed33",
   "metadata": {},
   "outputs": [
    {
     "data": {
      "text/plain": [
       "0.00011233320969338971"
      ]
     },
     "execution_count": 62,
     "metadata": {},
     "output_type": "execute_result"
    }
   ],
   "source": [
    "np.min(H_test)"
   ]
  },
  {
   "cell_type": "markdown",
   "id": "ac75dc4a",
   "metadata": {},
   "source": [
    "Exportation for the requested meshes:"
   ]
  },
  {
   "cell_type": "code",
   "execution_count": 65,
   "id": "2b51d3f0",
   "metadata": {},
   "outputs": [
    {
     "name": "stdout",
     "output_type": "stream",
     "text": [
      "done with exportation\n"
     ]
    }
   ],
   "source": [
    "H_test = uniform_H(lilium_s)\n",
    "H_test = H_test/np.amax(np.abs(H_test))\n",
    "lilium_s.visual.vertex_colors = trimesh.visual.interpolate(H_test, color_map='jet')\n",
    "lilium_s.export('lilium_s-colored.obj')\n",
    "print('done with exportation')"
   ]
  },
  {
   "cell_type": "code",
   "execution_count": 66,
   "id": "22729937",
   "metadata": {},
   "outputs": [
    {
     "name": "stdout",
     "output_type": "stream",
     "text": [
      "done with exportation\n"
     ]
    }
   ],
   "source": [
    "H_test = uniform_H(plane)\n",
    "H_test = H_test/np.amax(np.abs(H_test))\n",
    "plane.visual.vertex_colors = trimesh.visual.interpolate(H_test, color_map='jet')\n",
    "plane.export('plane-colored.obj')\n",
    "print('done with exportation')"
   ]
  },
  {
   "cell_type": "markdown",
   "id": "4fbde0bd",
   "metadata": {},
   "source": [
    "#### Test neighbors function"
   ]
  },
  {
   "cell_type": "code",
   "execution_count": 22,
   "id": "e5b78899",
   "metadata": {},
   "outputs": [],
   "source": [
    "list_neighbors_5000 = np.array(bumpy_cube.vertex_neighbors[5000])"
   ]
  },
  {
   "cell_type": "code",
   "execution_count": 23,
   "id": "800ee535",
   "metadata": {},
   "outputs": [],
   "source": [
    "ouaisouais = choose_best_neighbors(bumpy_cube, 5000, list_neighbors_5000)"
   ]
  },
  {
   "cell_type": "markdown",
   "id": "dceca15e",
   "metadata": {},
   "source": [
    "Let's see if our function changes the order of the list:"
   ]
  },
  {
   "cell_type": "code",
   "execution_count": 24,
   "id": "87a336af",
   "metadata": {},
   "outputs": [
    {
     "name": "stdout",
     "output_type": "stream",
     "text": [
      "[ 8743  1256  5001 12488 12493   117]\n"
     ]
    }
   ],
   "source": [
    "# Original list returned by trimesh.vertex_neighbors\n",
    "print(list_neighbors_5000)"
   ]
  },
  {
   "cell_type": "code",
   "execution_count": 25,
   "id": "b894c886",
   "metadata": {},
   "outputs": [
    {
     "name": "stdout",
     "output_type": "stream",
     "text": [
      "[ 8743   117  5001 12493  1256 12488]\n"
     ]
    }
   ],
   "source": [
    "# Our sorted list\n",
    "print(ouaisouais)"
   ]
  },
  {
   "cell_type": "markdown",
   "id": "ca72df94",
   "metadata": {},
   "source": [
    "Visual confirmation:"
   ]
  },
  {
   "cell_type": "code",
   "execution_count": 30,
   "id": "34b7a951",
   "metadata": {
    "scrolled": true
   },
   "outputs": [
    {
     "data": {
      "image/png": "[encoded data removed]",
      "text/plain": [
       "<Figure size 432x288 with 1 Axes>"
      ]
     },
     "metadata": {
      "needs_background": "light"
     },
     "output_type": "display_data"
    }
   ],
   "source": [
    "# Original list returned by trimesh.vertex_neighbors\n",
    "fig = plt.figure()\n",
    "ax = fig.add_subplot(projection='3d')\n",
    "ax.scatter(bumpy_cube.vertices[list_neighbors_5000[0], 0], bumpy_cube.vertices[list_neighbors_5000[0], 1], bumpy_cube.vertices[list_neighbors_5000[0], 2], label='0')\n",
    "ax.scatter(bumpy_cube.vertices[list_neighbors_5000[1], 0], bumpy_cube.vertices[list_neighbors_5000[1], 1], bumpy_cube.vertices[list_neighbors_5000[1], 2], label='1')\n",
    "ax.scatter(bumpy_cube.vertices[list_neighbors_5000[2], 0], bumpy_cube.vertices[list_neighbors_5000[2], 1], bumpy_cube.vertices[list_neighbors_5000[2], 2], label='2')\n",
    "ax.scatter(bumpy_cube.vertices[list_neighbors_5000[3], 0], bumpy_cube.vertices[list_neighbors_5000[3], 1], bumpy_cube.vertices[list_neighbors_5000[3], 2], label='3')\n",
    "ax.scatter(bumpy_cube.vertices[list_neighbors_5000[4], 0], bumpy_cube.vertices[list_neighbors_5000[4], 1], bumpy_cube.vertices[list_neighbors_5000[4], 2], label='4')\n",
    "ax.scatter(bumpy_cube.vertices[list_neighbors_5000[5], 0], bumpy_cube.vertices[list_neighbors_5000[5], 1], bumpy_cube.vertices[list_neighbors_5000[5], 2], label='5')\n",
    "plt.legend()\n",
    "plt.show()"
   ]
  },
  {
   "cell_type": "code",
   "execution_count": 31,
   "id": "c3b1f693",
   "metadata": {},
   "outputs": [
    {
     "data": {
      "image/png": "[encoded data removed]",
      "text/plain": [
       "<Figure size 432x288 with 1 Axes>"
      ]
     },
     "metadata": {
      "needs_background": "light"
     },
     "output_type": "display_data"
    }
   ],
   "source": [
    "# Our sorted list\n",
    "fig = plt.figure()\n",
    "ax = fig.add_subplot(projection='3d')\n",
    "ax.scatter(bumpy_cube.vertices[ouaisouais[0], 0], bumpy_cube.vertices[ouaisouais[0], 1], bumpy_cube.vertices[ouaisouais[0], 2], label='0')\n",
    "ax.scatter(bumpy_cube.vertices[ouaisouais[1], 0], bumpy_cube.vertices[ouaisouais[1], 1], bumpy_cube.vertices[ouaisouais[1], 2], label='1')\n",
    "ax.scatter(bumpy_cube.vertices[ouaisouais[2], 0], bumpy_cube.vertices[ouaisouais[2], 1], bumpy_cube.vertices[ouaisouais[2], 2], label='2')\n",
    "ax.scatter(bumpy_cube.vertices[ouaisouais[3], 0], bumpy_cube.vertices[ouaisouais[3], 1], bumpy_cube.vertices[ouaisouais[3], 2], label='3')\n",
    "ax.scatter(bumpy_cube.vertices[ouaisouais[4], 0], bumpy_cube.vertices[ouaisouais[4], 1], bumpy_cube.vertices[ouaisouais[4], 2], label='4')\n",
    "ax.scatter(bumpy_cube.vertices[ouaisouais[5], 0], bumpy_cube.vertices[ouaisouais[5], 1], bumpy_cube.vertices[ouaisouais[5], 2], label='5')\n",
    "plt.legend()\n",
    "plt.show()"
   ]
  },
  {
   "cell_type": "markdown",
   "id": "624a4ce6",
   "metadata": {},
   "source": [
    "We can see that in our list, the vertices are organised in a circular way, that is what we want."
   ]
  },
  {
   "cell_type": "markdown",
   "id": "c8b18e49",
   "metadata": {},
   "source": [
    "#### Gauss curvature"
   ]
  },
  {
   "cell_type": "code",
   "execution_count": 125,
   "id": "edf89496",
   "metadata": {},
   "outputs": [],
   "source": [
    "K_test = gaussian_curvature(bumpy_cube)"
   ]
  },
  {
   "cell_type": "code",
   "execution_count": 140,
   "id": "fe6ca261",
   "metadata": {},
   "outputs": [
    {
     "data": {
      "text/plain": [
       "-1.346392600276159"
      ]
     },
     "execution_count": 140,
     "metadata": {},
     "output_type": "execute_result"
    }
   ],
   "source": [
    "np.amin(K_test)"
   ]
  },
  {
   "cell_type": "code",
   "execution_count": 141,
   "id": "e1bf09b1",
   "metadata": {},
   "outputs": [
    {
     "data": {
      "text/plain": [
       "5.273006172822689"
      ]
     },
     "execution_count": 141,
     "metadata": {},
     "output_type": "execute_result"
    }
   ],
   "source": [
    "np.amax(K_test)"
   ]
  },
  {
   "cell_type": "code",
   "execution_count": null,
   "id": "263d70d4",
   "metadata": {},
   "outputs": [],
   "source": [
    "plt.hist(K_test)\n",
    "plt.show()"
   ]
  },
  {
   "cell_type": "markdown",
   "id": "96de6b4c",
   "metadata": {},
   "source": [
    "We can see from the histogram and the minimum value that there are outliers that will make our visual color interpolation false, so we have to get rid of them"
   ]
  },
  {
   "cell_type": "code",
   "execution_count": 132,
   "id": "f7f1e4a6",
   "metadata": {},
   "outputs": [],
   "source": [
    "K_test_old = K_test"
   ]
  },
  {
   "cell_type": "code",
   "execution_count": 139,
   "id": "26dcb048",
   "metadata": {},
   "outputs": [],
   "source": [
    "K_test[K_test<-50] = 0"
   ]
  },
  {
   "cell_type": "code",
   "execution_count": null,
   "id": "00fb98b3",
   "metadata": {},
   "outputs": [],
   "source": [
    "np.amin(K_test)"
   ]
  },
  {
   "cell_type": "code",
   "execution_count": null,
   "id": "1ee65f39",
   "metadata": {},
   "outputs": [],
   "source": [
    "np.amax(K_test)"
   ]
  },
  {
   "cell_type": "code",
   "execution_count": 142,
   "id": "02d2bfc2",
   "metadata": {},
   "outputs": [],
   "source": [
    "bumpy_cube.visual.vertex_colors = trimesh.visual.interpolate(K_test, color_map='jet')"
   ]
  },
  {
   "cell_type": "code",
   "execution_count": 143,
   "id": "ffdd8efb",
   "metadata": {},
   "outputs": [
    {
     "name": "stdout",
     "output_type": "stream",
     "text": [
      "done with exportation\n"
     ]
    }
   ],
   "source": [
    "bumpy_cube.export('bumpy-cube-colored-gauss.obj')\n",
    "print('done with exportation')"
   ]
  },
  {
   "cell_type": "markdown",
   "id": "db7ac1a4",
   "metadata": {},
   "source": [
    "#### Non-uniform Laplacian"
   ]
  },
  {
   "cell_type": "code",
   "execution_count": 119,
   "id": "978e918c",
   "metadata": {},
   "outputs": [],
   "source": [
    "H_test = non_uniform_H(bumpy_cube)"
   ]
  },
  {
   "cell_type": "code",
   "execution_count": 120,
   "id": "ede38719",
   "metadata": {},
   "outputs": [],
   "source": [
    "H_test = H_test/np.amax(np.abs(H_test))"
   ]
  },
  {
   "cell_type": "code",
   "execution_count": 121,
   "id": "623d8ee1",
   "metadata": {},
   "outputs": [],
   "source": [
    "bumpy_cube.visual.vertex_colors = trimesh.visual.interpolate(H_test, color_map='jet')\n",
    "#bumpy_cube.visual.vertex_colors = trimesh.visual.interpolate(H_test, color_map='gnuplot2')"
   ]
  },
  {
   "cell_type": "code",
   "execution_count": 122,
   "id": "35890e63",
   "metadata": {},
   "outputs": [
    {
     "name": "stdout",
     "output_type": "stream",
     "text": [
      "done with exportation\n"
     ]
    }
   ],
   "source": [
    "bumpy_cube.export('bumpy-cube-colored-NON.obj')\n",
    "print('done with exportation')"
   ]
  },
  {
   "cell_type": "markdown",
   "id": "d7411883",
   "metadata": {},
   "source": [
    "Exportation for the requested meshes:"
   ]
  },
  {
   "cell_type": "code",
   "execution_count": 63,
   "id": "70857214",
   "metadata": {},
   "outputs": [
    {
     "name": "stdout",
     "output_type": "stream",
     "text": [
      "done with exportation\n"
     ]
    }
   ],
   "source": [
    "H_test = non_uniform_H(lilium_s)\n",
    "H_test = H_test/np.amax(np.abs(H_test))\n",
    "lilium_s.visual.vertex_colors = trimesh.visual.interpolate(H_test, color_map='jet')\n",
    "lilium_s.export('lilium_s-colored-NON.obj')\n",
    "print('done with exportation')"
   ]
  },
  {
   "cell_type": "code",
   "execution_count": 64,
   "id": "ad9bc7d0",
   "metadata": {},
   "outputs": [
    {
     "name": "stdout",
     "output_type": "stream",
     "text": [
      "done with exportation\n"
     ]
    },
    {
     "name": "stderr",
     "output_type": "stream",
     "text": [
      "<ipython-input-10-425975ff6e47>:33: RuntimeWarning: invalid value encountered in arccos\n",
      "  angle_k = np.abs(np.arccos(cos_angle_k))\n",
      "<ipython-input-27-6089622e2705>:47: RuntimeWarning: divide by zero encountered in double_scalars\n",
      "  cotan_term = (1/np.tan(trimesh_angles[j-1, 1])) + (1/np.tan(trimesh_angles[j, 2]))\n",
      "<ipython-input-27-6089622e2705>:54: RuntimeWarning: divide by zero encountered in double_scalars\n",
      "  cotan_term = (1/np.tan(trimesh_angles[-1, 1])) + (1/np.tan(trimesh_angles[0, 2]))\n"
     ]
    }
   ],
   "source": [
    "H_test = non_uniform_H(plane)\n",
    "H_test = H_test/np.amax(np.abs(H_test))\n",
    "plane.visual.vertex_colors = trimesh.visual.interpolate(H_test, color_map='jet')\n",
    "plane.export('plane-colored-NON.obj')\n",
    "print('done with exportation')"
   ]
  },
  {
   "cell_type": "markdown",
   "id": "0a6d1e3e",
   "metadata": {},
   "source": [
    "$$\\%$$"
   ]
  }
 ],
 "metadata": {
  "kernelspec": {
   "display_name": "Python 3 (ipykernel)",
   "language": "python",
   "name": "python3"
  },
  "language_info": {
   "codemirror_mode": {
    "name": "ipython",
    "version": 3
   },
   "file_extension": ".py",
   "mimetype": "text/x-python",
   "name": "python",
   "nbconvert_exporter": "python",
   "pygments_lexer": "ipython3",
   "version": "3.9.15"
  }
 },
 "nbformat": 4,
 "nbformat_minor": 5
}

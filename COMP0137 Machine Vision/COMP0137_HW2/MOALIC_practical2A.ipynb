{
 "cells": [
  {
   "attachments": {},
   "cell_type": "markdown",
   "metadata": {},
   "source": [
    "Baptiste MOALIC"
   ]
  },
  {
   "cell_type": "markdown",
   "metadata": {},
   "source": [
    "# Practical 7 - Part 2A\n",
    "This second half of the lab explores the geometry of a single camera. In 2B the goal is to use a set of correspondance points to estimate a transformation matrix from a plane's 3D space to camera space and use that matrix to project some other points into camera space.\n",
    "\n",
    "In this section, we'll work on building two components that we need for 2B, a method to estimate that transformation and a method that can project points into camera image space.\n",
    "\n",
    "First we'll tackle the projection method, `projectiveCamera`. We want to find the image space coordinates, `XImCart`, of a set of 3D world coordinates, `XCart`, given a camera intrinsics matrix `K` and an extrinsics matrix `T`.\n",
    "\n",
    "The second component is a method to estimate a Eucledian transformation, `TEst`, that takes us from a plane's 3D coordinate space to 3D camera space by utilizing a given set of points in camera image space, `XImCart`, and a set of corresponding points in world space, `XCart`. Essentially we want to compute the extrinsics matrix we can use in `projectiveCamera`.\n",
    "\n",
    "Estimating the camera pose will involve calculating a homography, so you'll need to copy over your functions from part 1A/1B in the space provided."
   ]
  },
  {
   "cell_type": "markdown",
   "metadata": {},
   "source": [
    "## Import libraries "
   ]
  },
  {
   "cell_type": "code",
   "execution_count": 1,
   "metadata": {},
   "outputs": [],
   "source": [
    "%matplotlib inline\n",
    "import os \n",
    "import numpy as np\n",
    "import matplotlib.pyplot as plt\n",
    "import scipy.io as sio"
   ]
  },
  {
   "cell_type": "code",
   "execution_count": 2,
   "metadata": {},
   "outputs": [],
   "source": [
    "def projectiveCamera(K,T,XCart):\n",
    "    ##TODO\n",
    "    # The goal of this function is to project points in XCart through projective camera\n",
    "    # defined by intrinsic matrix K and extrinsic matrix T. In essence, this function takes a set of points \n",
    "    # in 3D world space, XCart, and projects them into camera image space by applying the extrinsic matrix T \n",
    "    # and then applying the intrinsic matrix K.\n",
    "    # \n",
    "    # There are three steps.\n",
    "    # 1) Move from world space to camera space. \n",
    "    #            camera space points = extrinsics T * world space points \n",
    "    #\n",
    "    # 2) Applying the intrinsics matrix to the camera space points after normalizing\n",
    "    #           homogeneous image space points = K * normalized camera space points\n",
    "    #\n",
    "    # 3) Move to image space cartesian points from image space homogeneous points, involves a \n",
    "    # normalization using the third row.\n",
    "    \n",
    "    \n",
    "    # TO DO: Replace this\n",
    "    n_points = XCart.shape[1]\n",
    "    XImCart = np.zeros((2, n_points))\n",
    "\n",
    "    # TO DO: Convert Cartesian 3d points XCart to homogeneous coordinates XHom\n",
    "    XHom = np.concatenate((XCart, np.ones((1,XCart.shape[1]))), axis=0)\n",
    "    \n",
    "    # TO DO: Apply extrinsic matrix to XHom, to move to frame of reference of camera\n",
    "    XHom = T @ XHom\n",
    "    \n",
    "    # TO DO: Project points into normalized camera coordinates xCamHom (remove 4th row)\n",
    "    XCamHom = XHom[0:3,:] / np.tile([XHom[3,:]],(3,1))\n",
    "    \n",
    "    # TO DO: Move points to image coordinates xImHom by applying intrinsic matrix\n",
    "    XImHom = K @ XCamHom\n",
    "    \n",
    "    # TO DO: Convert points back to Cartesian coordinates xImCart\n",
    "    XImCart = XImHom[0:2,:] / np.tile([XImHom[2,:]],(2,1))\n",
    "    \n",
    "    return XImCart\n"
   ]
  },
  {
   "cell_type": "markdown",
   "metadata": {},
   "source": [
    "## Camera Projection\n",
    "\n",
    "First we'll write up the function that can take us from 3D world space, `XCart`, to camera image space, `XImCart`, using an extrinsics matrix `T` and an intrinsics matrix `K` that are provided. The previous block houses this function.\n",
    "\n",
    "The result here is the cartesian image space point coordinates, `XImCart`, of the 3D points `XCart`. If `XCart` represents a box in the world then we now know where the box's vertices would land in image space.\n",
    "\n",
    "To verify that your solution is correct please compare your image space points to those in the comment.\n",
    "\n",
    "Once they match, move on to the next bit - estimating a transformation! "
   ]
  },
  {
   "cell_type": "code",
   "execution_count": 17,
   "metadata": {},
   "outputs": [
    {
     "name": "stdout",
     "output_type": "stream",
     "text": [
      "[[267.417 230.95  531.425 482.36  378.775]\n",
      " [396.268 288.114 237.834 358.399 329.441]]\n"
     ]
    }
   ],
   "source": [
    "# We assume that the camera intrinsics matrix K is known and has values:\n",
    "K = np.array([[640, 0, 320],\n",
    "             [0, 640, 240],\n",
    "             [0, 0, 1]])\n",
    "\n",
    "# We will assume an object co-ordinate system with the Z-axis pointing upwards and the origin\n",
    "# in the centre of the plane. There are five known points on the plane with coordinates (mm):\n",
    "XCart = np.array([[-100, -100,  100,  100, 0],\n",
    "                  [-100,  100,  100, -100, 0],\n",
    "                  [   0,    0,    0,    0, 0]])\n",
    "\n",
    "# We assume the correct transformation from the plane co-ordinate system to the\n",
    "# camera co-ordinate system (extrinsic matrix) is:\n",
    "T = np.array([[0.9851,  -0.0492,  0.1619,  46.00],\n",
    "             [-0.1623,  -0.5520,  0.8181,  70.00],\n",
    "             [0.0490,  -0.8324, -0.5518,  500.89],\n",
    "             [0,        0,       0,       1]])\n",
    "# T houses a rotation matrix and a translation matrix. The last row is for homogeneous point calculation.\n",
    "\n",
    "\n",
    "# TO DO: Use the general pin-hole projective camera model discussed in the lectures to estimate \n",
    "# where the four points on the plane will appear in the image.  Fill in the\n",
    "# details of the function \"projectiveCamera\"\n",
    "XImCart = projectiveCamera(K,T,XCart)\n",
    "\n",
    "print(XImCart)\n",
    "# Should be around:\n",
    "# [267.4170882  230.95045427 531.42492013 482.36049098 378.77537982]\n",
    "# [396.26814909 288.11435494 237.83410247 358.39940241 329.44079538]"
   ]
  },
  {
   "attachments": {},
   "cell_type": "markdown",
   "metadata": {},
   "source": [
    "***Comment:*** The results match exactly. At this point we have only multiplied the coordinates by the extrinsic and extrinsic matrices to retrieve the original ones, so this result was expected."
   ]
  },
  {
   "cell_type": "markdown",
   "metadata": {},
   "source": [
    "### You've implemented both of these functions in 1A and 1B already, so feel free to copy them in here. You'll need them for this next part."
   ]
  },
  {
   "cell_type": "code",
   "execution_count": 23,
   "metadata": {},
   "outputs": [],
   "source": [
    "def solveAXEqualsZero(A):\n",
    "    # TO DO: Write this routine - it should solve Ah = 0. You can do this using SVD. Consult your notes! \n",
    "    # Hint: SVD will be involved. \n",
    "\n",
    "    # Chap 15 slide 28\n",
    "    # Computing the SVD\n",
    "    _, _, vt = np.linalg.svd(A, full_matrices=True, compute_uv=True)\n",
    "\n",
    "    # Retrieving V and not V transpose\n",
    "    v = vt.T\n",
    "    #v = vt #Not transposing because of the note in next cell\n",
    "\n",
    "    # Retrieving h as the last column of V\n",
    "    h = v[:, -1]    \n",
    "  \n",
    "    return h"
   ]
  },
  {
   "cell_type": "code",
   "execution_count": 24,
   "metadata": {},
   "outputs": [],
   "source": [
    "def calcBestHomography(pts1Cart, pts2Cart):\n",
    "    \n",
    "    # This function should apply the direct linear transform (DLT) algorithm to calculate the best \n",
    "    # homography that maps the cartesian points in pts1Cart to their corresonding matching cartesian poitns \n",
    "    # in pts2Cart.\n",
    "    \n",
    "    # This function calls solveAXEqualsZero. Make sure you are wary of how to reshape h into a 3 by 3 matrix. \n",
    "\n",
    "    n_points = pts1Cart.shape[1]\n",
    "    \n",
    "    # TO DO: replace this:\n",
    "    H = np.identity(3).reshape(-1, 1) #Flattening the H array\n",
    "\n",
    "    # TO DO: \n",
    "    # First convert points into homogeneous representation\n",
    "    # Hint: we've done this before  in the skeleton code we provide.\n",
    "    pts1Hom = np.concatenate((pts1Cart, np.ones((1,pts1Cart.shape[1]))), axis=0)\n",
    "    pts2Hom = np.concatenate((pts2Cart, np.ones((1,pts2Cart.shape[1]))), axis=0)\n",
    "    \n",
    "    # Then construct the matrix A, size (n_points * 2, 9)\n",
    "    # Consult the notes!\n",
    "    A = np.zeros((n_points*2, 9)) #Initializing\n",
    "    for k in range(1, n_points+1): #Iterating over the points to fill A\n",
    "        # Even row\n",
    "        A[2*(k-1), 3] = -pts2Hom[0, k-1]\n",
    "        A[2*(k-1), 4] = -pts2Hom[1, k-1]\n",
    "        A[2*(k-1), 5] = -pts2Hom[2, k-1]\n",
    "        A[2*(k-1), 6] = pts1Hom[1, k-1] * pts2Hom[0, k-1]\n",
    "        A[2*(k-1), 7] = pts1Hom[1, k-1] * pts2Hom[1, k-1]\n",
    "        A[2*(k-1), 8] = pts1Hom[1, k-1] * pts2Hom[2, k-1]\n",
    "        # Odd row\n",
    "        A[2*(k-1)+1, 0] = pts2Hom[0, k-1]\n",
    "        A[2*(k-1)+1, 1] = pts2Hom[1, k-1]\n",
    "        A[2*(k-1)+1, 2] = pts2Hom[2, k-1]\n",
    "        A[2*(k-1)+1, 6] = -pts1Hom[0, k-1] * pts2Hom[0, k-1]\n",
    "        A[2*(k-1)+1, 7] = -pts1Hom[0, k-1] * pts2Hom[1, k-1]\n",
    "        A[2*(k-1)+1, 8] = -pts1Hom[0, k-1] * pts2Hom[2, k-1]\n",
    "    \n",
    "    # Solve Ah = 0 using solveAXEqualsZero and get h.\n",
    "    h = solveAXEqualsZero(A)\n",
    "    \n",
    "    # Reshape h into the matrix H, values of h go first into rows of H\n",
    "    H = h.reshape(3, 3)\n",
    "    \n",
    "    return H"
   ]
  },
  {
   "cell_type": "code",
   "execution_count": 35,
   "metadata": {},
   "outputs": [],
   "source": [
    "# Read the next cell first for context!\n",
    "\n",
    "def estimatePlanePose(XImCart,XCart,K):\n",
    "    # The goal of this function is to estimate the pose of a plane relative to camera (extrinsic matrix)\n",
    "    # given points in image space xImCart, points in 3D world space XCart, and an intrinsics matrix K.\n",
    "    \n",
    "    # TO DO: replace this\n",
    "    T = np.zeros((4, 4))\n",
    "\n",
    "    # TO DO: Convert Cartesian image points XImCart to homogeneous representation XImHom\n",
    "    XImHom = np.concatenate((XImCart, np.ones((1,XImCart.shape[1]))), axis=0)\n",
    "\n",
    "    # TO DO: Convert image co-ordinates XImHom to normalized camera coordinates XCamHom    \n",
    "    XCamHom = np.linalg.inv(K) @ XImHom\n",
    "    #XCamHom = XCamHom / np.tile([XCamHom[2,:]],(3,1))\n",
    "    \n",
    "    # TO DO: Estimate homography H mapping homogeneous (x,y) coordinates of positions\n",
    "    # in real world to XCamHom (convert XCamHom to Cartesian, calculate the homography) -\n",
    "    # use the routine you wrote for Practical 1B\n",
    "    XCamCart = XCamHom[0:2,:] / np.tile([XCamHom[2,:]],(2,1)) #Convert back to Cartesian and normalizing\n",
    "    #XCartCart = XCart[0:2, :] #No need, the function only uses the first rows\n",
    "    #XCamCart = XCamHom[0:2, :]\n",
    "    XCartCart = XCart[0:2, :]\n",
    "    #print(\"XCamCart\")\n",
    "    #print(XCamCart)\n",
    "    #print(\"XCartCart\")\n",
    "    #print(XCartCart)\n",
    "    H = calcBestHomography(XCamCart, XCartCart) #Estimating the homography\n",
    "    #H = calcBestHomography(XCartCart, XCamCart) #Estimating the homography\n",
    "    #print(\"H\")\n",
    "    #print(H)\n",
    "          \n",
    "    # TO DO: Estimate first two columns of rotation matrix R from the first two\n",
    "    # columns of H using the SVD. NOTE: You do not need to transpose v from linalg.svd  \n",
    "    # Chap 15 slide 40  \n",
    "    R = np.zeros((3, 3)) #Initializing the rotation matrix\n",
    "    u, _, vt = np.linalg.svd(H[:, 0:2], full_matrices=True, compute_uv=True) \n",
    "    R[:, 0:2] = u @ np.array([[1, 0], [0, 1], [0, 0]]) @ vt\n",
    "    #print(\"R\")\n",
    "    #print(R)\n",
    "\n",
    "    # TO DO: Estimate the third column of the rotation matrix by taking the cross\n",
    "    # product of the first two columns\n",
    "    R[:, 2] = np.cross(R[:, 0], R[:, 1])\n",
    "    #R[:, 2] = np.cross(R[:, 1], R[:, 0])\n",
    "    #print(\"R\")\n",
    "    #print(R)\n",
    "        \n",
    "    # TO DO: Check that the determinant of the rotation matrix is positive - if\n",
    "    # not then multiply last column by -1.\n",
    "    det_R = np.linalg.det(R)\n",
    "    #print(\"det_R\")\n",
    "    #print(det_R)\n",
    "    if(det_R < 0):\n",
    "        R[:, 2] *= (-1)\n",
    "    #print(\"R\")\n",
    "    #print(R)\n",
    "\n",
    "    # TO DO: Estimate the translation t by finding the appropriate scaling factor k\n",
    "    # and applying it to the third colulmn of H\n",
    "    t = np.zeros((3, 1))\n",
    "    numerator_scaling = 0\n",
    "    for i in range(3):\n",
    "        for j in range(2):\n",
    "            numerator_scaling += H[i, j]/R[i, j]\n",
    "    numerator_scaling = numerator_scaling/6\n",
    "    #H[:, 2] = H[:, 2]/numerator_scaling\n",
    "    t[:, 0] = H[:, 2]/numerator_scaling\n",
    "    #print(\"t\")\n",
    "    #print(t)\n",
    "\n",
    "    # TO DO: Check whether t_z is negative - if it is then multiply t by -1 and\n",
    "    # the first two columns of R by -1.\n",
    "    \"\"\"\n",
    "    if(H[2, 2] < 0):\n",
    "        H[:, 2] = -H[:, 2]\n",
    "        R[:, 0:2] = -R[:, 0:2]\n",
    "    \"\"\"\n",
    "    if(t[-1, 0] < 0):\n",
    "        t *= (-1)\n",
    "        R[:, 0:2] *= (-1)\n",
    "            \n",
    "    # TO DO: Assemble transformation into matrix form\n",
    "    T[0:3, 0:3] = R\n",
    "    T[0:3, 3] = t[:, 0]\n",
    "    T[3, 3] = 1\n",
    "    \n",
    "    return T "
   ]
  },
  {
   "cell_type": "markdown",
   "metadata": {},
   "source": [
    "## Now the juicy bit: Estimating an Extrinsics Matrix, T\n",
    "\n",
    "The problem: We are given an instrinsics matrix `K`, a set of 3D world points `XCart`, and a set of corresponding image space coordinates in `XImCart`. `K` and `XCart` have already been defined a few cells back and you've calculated `XImCart` by virtue of the exercise you've completed with camera projection. What we don't have is an extrinsics matrix, `T`. We need to estimate this and you'll need to fill in `estimatePlanePose` and return `TEst`.\n",
    "\n",
    "Again you can start by negating the noise we add to XImCart to make sure you're on the right track."
   ]
  },
  {
   "cell_type": "code",
   "execution_count": 38,
   "metadata": {},
   "outputs": [
    {
     "name": "stdout",
     "output_type": "stream",
     "text": [
      "[[ 9.845e-01 -7.653e-02  1.580e-01  4.922e+01]\n",
      " [-1.735e-01 -5.616e-01  8.090e-01  7.998e+01]\n",
      " [ 2.684e-02 -8.238e-01 -5.662e-01  5.752e+02]\n",
      " [ 0.000e+00  0.000e+00  0.000e+00  1.000e+00]]\n",
      "\n",
      "\n",
      "[[ 9.851e-01 -4.920e-02  1.619e-01  4.600e+01]\n",
      " [-1.623e-01 -5.520e-01  8.181e-01  7.000e+01]\n",
      " [ 4.900e-02 -8.324e-01 -5.518e-01  5.009e+02]\n",
      " [ 0.000e+00  0.000e+00  0.000e+00  1.000e+00]]\n"
     ]
    }
   ],
   "source": [
    "# TO DO: Add noise (standard deviation of one pixel in each direction) to the pixel positions\n",
    "# to simulate having to find these points in a noisy image. Store the results back in xImCart\n",
    "noiseLevel = 4.0\n",
    "#noiseLevel = 0\n",
    "XImCartNoisy = XImCart + np.random.normal(0, noiseLevel, XImCart.shape)\n",
    "\n",
    "# TO DO: Now we will take the image points and the known positions on the card and estimate  \n",
    "# the extrinsic matrix using the algorithm discussed in the lecture.  Fill in the details of \n",
    "# the function estimatePlanePose\n",
    "TEst = estimatePlanePose(XImCartNoisy,XCart,K)\n",
    "\n",
    "# If you have got this correct, TEst should closely resemble the groundtruth, T.\n",
    "np.set_printoptions(precision=3)\n",
    "print(TEst)\n",
    "print(\"\\n\")\n",
    "print(T)\n"
   ]
  },
  {
   "attachments": {},
   "cell_type": "markdown",
   "metadata": {
    "collapsed": true
   },
   "source": [
    "***Comment:*** We can see that by adding some noise, we still get a quite good estimation. We can note that the translation part will be more altered than the rotation part, but that's due to their nature: the rotation matrix is comprised only of cos/sin, and therefore is contained within [-1, 1], when the translation part can go much higer or lower.\n",
    "Still, the estimation is reasonable.  "
   ]
  }
 ],
 "metadata": {
  "kernelspec": {
   "display_name": "mv22",
   "language": "python",
   "name": "python3"
  },
  "language_info": {
   "codemirror_mode": {
    "name": "ipython",
    "version": 3
   },
   "file_extension": ".py",
   "mimetype": "text/x-python",
   "name": "python",
   "nbconvert_exporter": "python",
   "pygments_lexer": "ipython3",
   "version": "3.10.4"
  },
  "vscode": {
   "interpreter": {
    "hash": "aa1a47a5063c9bf04e2ac5abd3cb280cbc71c720c8624b22d073bfaf4a7f88fd"
   }
  }
 },
 "nbformat": 4,
 "nbformat_minor": 1
}
